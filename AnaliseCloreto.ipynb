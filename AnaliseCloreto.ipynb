{
 "cells": [
  {
   "cell_type": "markdown",
   "metadata": {},
   "source": [
    "1"
   ]
  },
  {
   "cell_type": "code",
   "execution_count": 1,
   "metadata": {
    "id": "fWB1t4g3P6od"
   },
   "outputs": [],
   "source": [
    "import pandas as pd\n",
    "import seaborn as sns\n",
    "import matplotlib.pyplot as plt\n",
    "import math\n",
    "from datetime import datetime, timedelta\n",
    "from matplotlib.backends.backend_pdf import PdfPages\n"
   ]
  },
  {
   "cell_type": "markdown",
   "metadata": {},
   "source": [
    "2"
   ]
  },
  {
   "cell_type": "code",
   "execution_count": 2,
   "metadata": {
    "colab": {
     "base_uri": "https://localhost:8080/",
     "height": 206
    },
    "id": "j85c76TQUtkN",
    "outputId": "94650c59-1bb4-4e7e-da48-78ff263263c9"
   },
   "outputs": [
    {
     "name": "stdout",
     "output_type": "stream",
     "text": [
      "Exportando gráficos para o arquivo 'todos_graficos.pdf'\n",
      "Colunas carregadas na planilha:\n",
      "Index(['Datas', 'SAL EM PETROLEO MET.POTEN', 'SUCCAO 01-P-01A/B',\n",
      "       'PET P/ 1a.BATERIA', 'PET P/ 01-E-03A/B', 'PET P/ 01-E-04A/F',\n",
      "       'AGUA BAT.', 'PET E04AF', 'ENTRADA E33 CRU', 'ABR E-15', 'PET P/V3A',\n",
      "       'DELTA V3A', '01-V-03A', '01-V-03A.1', 'SALMOURA', 'AGUA V3',\n",
      "       'AGUA E-25 P/ V-03', 'PET V-03A', 'DELTA V3B', 'PET P/V3B', '01-V-03B',\n",
      "       '001V3B ALIVIO P/ TOCHA', 'PET V-03B SAIDA', 'AGUA TRAT P/ U-01/101',\n",
      "       'succao 01-P-16', 'SAL P/E26', 'SAL P/E25 SALMOURA',\n",
      "       'ANALISADOR DE NH3', 'SUCCAO P23A/B', 'CRU ENTRADA 01E5',\n",
      "       'PET P/ 01-E-05A/B', 'RCS P/ 01-P-04A/B', 'PET P/ 01-E-06A/B',\n",
      "       'GOP-1 E7B SAIDA', 'GOP-1 E7D SAIDA', 'PET P/ 01-E-27B', 'CARGA 01',\n",
      "       'SUCCAO P28A/B', 'DESCARGA 01P28A/B', 'SAIDA E32 CRU',\n",
      "       'SAIDA E32 CRU.1', 'DP-1 P/ 01-C-02D', 'PET E-06A SAIDA',\n",
      "       'PET E-06B SAIDA', 'PRESSAO E27', 'DL-1 P/ 01-P-05A/B', 'PET P/E27B',\n",
      "       'GOP-1 E27A SAIDA', 'DL-1 E-09 Saida', 'PET E-27B SAIDA', 'ABR E-15.1',\n",
      "       'ENTRADA E19 CRU', 'ENTRADA E19 CRU.1', 'SAIDA E19 RCI',\n",
      "       'SAIDA E19 CRU', 'RV-1 E-28B SAIDA', 'PET E-28B SAIDA',\n",
      "       'RV-1 E-28A SAIDA', 'SAIDA BATERIA', 'PASSO 3 E 4 SAIDA RADIACAO',\n",
      "       'NP-1 P/ 01-C-02A', 'Q-1 P/ 01-C-02B', 'DL-1 P/ 01-C-02C',\n",
      "       'DP-1 P/ 01-C-02D.1', 'NP P/ LB', 'Q P/LB', 'DESCARGA 001-P-05AB',\n",
      "       'DP P/ LB'],\n",
      "      dtype='object')\n"
     ]
    }
   ],
   "source": [
    "# Nome do arquivo PDF de saída\n",
    "output_pdf = \"todos_graficos.pdf\"\n",
    "\n",
    "# Criar uma instância do PdfPages\n",
    "pdf = PdfPages(output_pdf)\n",
    "print(f\"Exportando gráficos para o arquivo '{output_pdf}'\")\n",
    "\n",
    "# Caminho para a planilha\n",
    "file_path = 'Dados.xlsx'\n",
    "\n",
    "# Carregar a planilha, começando da linha 4 e especificando o índice correto\n",
    "df = pd.read_excel(file_path, skiprows=2)  # Pula as primeiras 3 linhas (começa na linha 4)\n",
    "\n",
    "# Exibir os nomes das colunas para inspeção\n",
    "print(\"Colunas carregadas na planilha:\")\n",
    "print(df.columns)\n"
   ]
  },
  {
   "cell_type": "markdown",
   "metadata": {},
   "source": [
    "3"
   ]
  },
  {
   "cell_type": "code",
   "execution_count": 3,
   "metadata": {},
   "outputs": [],
   "source": [
    "# Definir a coluna de data (já carregada e convertida)\n",
    "data_col = df.columns[0]  # Primeira coluna do DataFrame, assumida como a de data\n",
    "\n",
    "# Garantir que a coluna de data foi convertida corretamente\n",
    "if df[data_col].dtype != 'datetime64[ns]':\n",
    "    df[data_col] = pd.to_datetime(df[data_col], errors='coerce')\n",
    "\n",
    "# Determinar a data atual e o limite de 365 dias atrás\n",
    "data_atual = datetime.now()\n",
    "limite_data = data_atual - timedelta(days=365)\n",
    "\n",
    "# Filtrar as linhas dentro do intervalo de 365 dias\n",
    "df_filtrado = df[df[data_col] >= limite_data]\n"
   ]
  },
  {
   "cell_type": "markdown",
   "metadata": {},
   "source": [
    "4"
   ]
  },
  {
   "cell_type": "code",
   "execution_count": 4,
   "metadata": {
    "colab": {
     "base_uri": "https://localhost:8080/",
     "height": 509
    },
    "id": "8JKN_Ck9QpoX",
    "outputId": "2a82d111-026d-43e4-e7fe-8f0e98d13816"
   },
   "outputs": [
    {
     "name": "stdout",
     "output_type": "stream",
     "text": [
      "\n",
      "Primeiras 5 linhas da planilha filtrada (últimos 365 dias):\n",
      "                Datas  SAL EM PETROLEO MET.POTEN SUCCAO 01-P-01A/B  \\\n",
      "0 2024-12-03 09:00:00                        2.0          3.985596   \n",
      "1 2024-12-02 09:00:00                        2.0          3.989899   \n",
      "2 2024-12-01 09:00:00                        4.0          4.280632   \n",
      "3 2024-11-30 21:00:00                        6.0          3.803757   \n",
      "4 2024-11-30 09:00:00                        9.0          4.009426   \n",
      "\n",
      "  PET P/ 1a.BATERIA PET P/ 01-E-03A/B PET P/ 01-E-04A/F   AGUA BAT.  \\\n",
      "0         26.744247         52.792759         70.117332  347.581207   \n",
      "1         25.399412         50.566494         69.303711  367.763092   \n",
      "2         26.929869         51.511902         68.766235  366.493958   \n",
      "3         27.977982          53.04414         69.639572  367.638977   \n",
      "4         28.566402         53.916306         69.948586  368.045013   \n",
      "\n",
      "    PET E04AF ENTRADA E33 CRU   ABR E-15  ... SAIDA BATERIA  \\\n",
      "0   128.49588       18.244637  52.779049  ...    264.008759   \n",
      "1   121.75618       18.294065  50.415707  ...    262.764374   \n",
      "2  127.422874       18.573433  52.263351  ...    266.268524   \n",
      "3  131.418442       18.299627  52.083843  ...    267.014252   \n",
      "4  133.921494        18.16486  52.173916  ...    269.437378   \n",
      "\n",
      "  PASSO 3 E 4 SAIDA RADIACAO NP-1 P/ 01-C-02A Q-1 P/ 01-C-02B  \\\n",
      "0                 365.320099       170.885559      237.545517   \n",
      "1                 365.596008        162.40947      232.826126   \n",
      "2                 364.937744       168.447769      236.695724   \n",
      "3                 364.493103       164.827637      234.271744   \n",
      "4                 364.675629       166.067291      235.250427   \n",
      "\n",
      "  DL-1 P/ 01-C-02C DP-1 P/ 01-C-02D.1     NP P/ LB       Q P/LB  \\\n",
      "0       273.965759         319.005646  1897.248779   901.644592   \n",
      "1       274.103485         322.492096  1901.969849  1003.128357   \n",
      "2       272.308258         318.220947  1900.131714   851.462891   \n",
      "3       272.467804         319.450348  1899.395874  1000.496216   \n",
      "4       273.197876          317.88501  1898.153687  1000.018066   \n",
      "\n",
      "  DESCARGA 001-P-05AB    DP P/ LB  \n",
      "0         1598.307007  700.637878  \n",
      "1         1768.283203  700.541382  \n",
      "2         1602.943237  650.274902  \n",
      "3         1528.935059  589.991028  \n",
      "4         1512.973633  588.086853  \n",
      "\n",
      "[5 rows x 68 columns]\n"
     ]
    }
   ],
   "source": [
    "# Exibir as primeiras linhas da planilha filtrada\n",
    "print(\"\\nPrimeiras 5 linhas da planilha filtrada (últimos 365 dias):\")\n",
    "print(df_filtrado.head())\n"
   ]
  },
  {
   "cell_type": "markdown",
   "metadata": {},
   "source": [
    "5"
   ]
  },
  {
   "cell_type": "code",
   "execution_count": 5,
   "metadata": {
    "colab": {
     "base_uri": "https://localhost:8080/"
    },
    "id": "j-KjWfnNSROH",
    "outputId": "c1beb998-48a1-4b4a-bc4a-ac3b13f9f8fa"
   },
   "outputs": [
    {
     "name": "stdout",
     "output_type": "stream",
     "text": [
      "\n",
      "Total de linhas filtradas: 414\n"
     ]
    }
   ],
   "source": [
    "# Exibir o número total de linhas no DataFrame filtrado\n",
    "print(f\"\\nTotal de linhas filtradas: {len(df_filtrado)}\")\n"
   ]
  },
  {
   "cell_type": "markdown",
   "metadata": {},
   "source": [
    "6"
   ]
  },
  {
   "cell_type": "code",
   "execution_count": 6,
   "metadata": {},
   "outputs": [
    {
     "name": "stdout",
     "output_type": "stream",
     "text": [
      "\n",
      "Dados filtrados foram salvos em 'dados_filtrados.xlsx'\n"
     ]
    }
   ],
   "source": [
    "# (Opcional) Salvar os dados filtrados em um arquivo Excel\n",
    "df_filtrado.to_excel('dados_filtrados.xlsx', index=False)\n",
    "print(\"\\nDados filtrados foram salvos em 'dados_filtrados.xlsx'\")\n"
   ]
  },
  {
   "cell_type": "markdown",
   "metadata": {},
   "source": [
    "7"
   ]
  },
  {
   "cell_type": "code",
   "execution_count": 7,
   "metadata": {
    "id": "D9Qm5o4hRnwb"
   },
   "outputs": [],
   "source": [
    "# Carregar o arquivo gerado anteriormente\n",
    "file_path = 'dados_filtrados.xlsx'\n",
    "df = pd.read_excel(file_path)\n",
    "\n",
    "# Identificar as colunas numéricas (da coluna C em diante)\n",
    "colunas_numericas = df.columns[2:]  # Colunas de C em diante (índice começa em 0, então 2 é a terceira coluna)\n"
   ]
  },
  {
   "cell_type": "markdown",
   "metadata": {},
   "source": [
    "8"
   ]
  },
  {
   "cell_type": "code",
   "execution_count": 8,
   "metadata": {},
   "outputs": [
    {
     "name": "stdout",
     "output_type": "stream",
     "text": [
      "\n",
      "Resumo das colunas numéricas após limpeza:\n",
      "       SUCCAO 01-P-01A/B  PET P/ 1a.BATERIA  PET P/ 01-E-03A/B  \\\n",
      "count         375.000000         414.000000         414.000000   \n",
      "mean            4.732433          26.745303          48.830297   \n",
      "std             0.938861           1.373632           2.256410   \n",
      "min             1.121261          23.758303          42.053371   \n",
      "25%             4.041786          25.518605          47.498459   \n",
      "50%             4.516438          27.001552          48.879753   \n",
      "75%             5.484022          27.794887          50.490876   \n",
      "max             6.987870          30.558380          55.411308   \n",
      "\n",
      "       PET P/ 01-E-04A/F   AGUA BAT.   PET E04AF  ENTRADA E33 CRU    ABR E-15  \\\n",
      "count         414.000000  414.000000  414.000000       414.000000  414.000000   \n",
      "mean           67.017843  250.427797  127.138527        17.611206   44.870536   \n",
      "std             2.926414   60.587494    4.680283         0.350953    5.549124   \n",
      "min            56.553928  122.529938  109.166328        16.430021   30.543165   \n",
      "25%            65.463844  204.220158  123.789913        17.375418   39.795750   \n",
      "50%            67.141068  244.869225  127.619488        17.666732   46.223055   \n",
      "75%            68.907040  258.255249  130.324696        17.802073   49.133636   \n",
      "max            74.343903  390.061371  138.023193        18.827515   56.918228   \n",
      "\n",
      "        PET P/V3A   DELTA V3A  ...  SAIDA BATERIA  PASSO 3 E 4 SAIDA RADIACAO  \\\n",
      "count  414.000000  414.000000  ...     414.000000                  414.000000   \n",
      "mean   140.517791    1.746343  ...     267.707276                  363.783606   \n",
      "std      4.720312    0.174397  ...       6.769377                   10.661942   \n",
      "min    124.010185    1.300959  ...     252.697479                  150.004578   \n",
      "25%    137.576565    1.613249  ...     263.418953                  364.118996   \n",
      "50%    140.196854    1.790657  ...     266.900696                  364.688309   \n",
      "75%    144.220417    1.829282  ...     272.772522                  365.051750   \n",
      "max    150.898605    2.468267  ...     284.681244                  367.407410   \n",
      "\n",
      "       NP-1 P/ 01-C-02A  Q-1 P/ 01-C-02B  DL-1 P/ 01-C-02C  \\\n",
      "count        414.000000       414.000000        414.000000   \n",
      "mean         167.366866       222.741176        268.460726   \n",
      "std            5.177881         9.397535          4.576641   \n",
      "min          156.063644       195.322403        254.313248   \n",
      "25%          162.786713       214.572716        265.759521   \n",
      "50%          167.763031       224.134102        269.011917   \n",
      "75%          170.961094       231.173107        271.555420   \n",
      "max          181.895935       238.617630        279.600983   \n",
      "\n",
      "       DP-1 P/ 01-C-02D.1     NP P/ LB       Q P/LB  DESCARGA 001-P-05AB  \\\n",
      "count          414.000000   414.000000   414.000000           414.000000   \n",
      "mean           314.361997  1563.849251   774.171585          1843.418227   \n",
      "std              4.822115   205.545073   201.341717           231.463503   \n",
      "min            295.381348   880.242981   299.586700           980.104980   \n",
      "25%            311.948486  1451.441711   618.988770          1676.778351   \n",
      "50%            315.384674  1600.339172   800.058990          1827.784424   \n",
      "75%            317.431709  1651.452515   920.385941          2023.356171   \n",
      "max            324.176514  1974.347168  1251.640869          2393.947754   \n",
      "\n",
      "         DP P/ LB  \n",
      "count  414.000000  \n",
      "mean   576.215778  \n",
      "std    129.572564  \n",
      "min    298.873138  \n",
      "25%    468.515007  \n",
      "50%    619.885437  \n",
      "75%    670.027649  \n",
      "max    801.062561  \n",
      "\n",
      "[8 rows x 66 columns]\n"
     ]
    }
   ],
   "source": [
    "# Garantir que as colunas numéricas realmente contenham valores numéricos\n",
    "for col in colunas_numericas:\n",
    "    # Converter valores não numéricos para NaN\n",
    "    df[col] = pd.to_numeric(df[col], errors='coerce')\n",
    "\n",
    "# Exibir um resumo dos dados após a limpeza\n",
    "print(\"\\nResumo das colunas numéricas após limpeza:\")\n",
    "print(df[colunas_numericas].describe())\n"
   ]
  },
  {
   "cell_type": "markdown",
   "metadata": {},
   "source": [
    "9"
   ]
  },
  {
   "cell_type": "code",
   "execution_count": 9,
   "metadata": {},
   "outputs": [
    {
     "name": "stdout",
     "output_type": "stream",
     "text": [
      "\n",
      "Dados limpos foram salvos em 'dados_limpos.xlsx'\n",
      "                Datas  SAL EM PETROLEO MET.POTEN  SUCCAO 01-P-01A/B  \\\n",
      "0 2024-12-03 09:00:00                          2           3.985596   \n",
      "1 2024-12-02 09:00:00                          2           3.989899   \n",
      "2 2024-12-01 09:00:00                          4           4.280632   \n",
      "3 2024-11-30 21:00:00                          6           3.803757   \n",
      "4 2024-11-30 09:00:00                          9           4.009426   \n",
      "\n",
      "   PET P/ 1a.BATERIA  PET P/ 01-E-03A/B  PET P/ 01-E-04A/F   AGUA BAT.  \\\n",
      "0          26.744247          52.792759          70.117332  347.581207   \n",
      "1          25.399412          50.566494          69.303711  367.763092   \n",
      "2          26.929869          51.511902          68.766235  366.493958   \n",
      "3          27.977982          53.044140          69.639572  367.638977   \n",
      "4          28.566402          53.916306          69.948586  368.045013   \n",
      "\n",
      "    PET E04AF  ENTRADA E33 CRU   ABR E-15  ...  SAIDA BATERIA  \\\n",
      "0  128.495880        18.244637  52.779049  ...     264.008759   \n",
      "1  121.756180        18.294065  50.415707  ...     262.764374   \n",
      "2  127.422874        18.573433  52.263351  ...     266.268524   \n",
      "3  131.418442        18.299627  52.083843  ...     267.014252   \n",
      "4  133.921494        18.164860  52.173916  ...     269.437378   \n",
      "\n",
      "   PASSO 3 E 4 SAIDA RADIACAO  NP-1 P/ 01-C-02A  Q-1 P/ 01-C-02B  \\\n",
      "0                  365.320099        170.885559       237.545517   \n",
      "1                  365.596008        162.409470       232.826126   \n",
      "2                  364.937744        168.447769       236.695724   \n",
      "3                  364.493103        164.827637       234.271744   \n",
      "4                  364.675629        166.067291       235.250427   \n",
      "\n",
      "   DL-1 P/ 01-C-02C  DP-1 P/ 01-C-02D.1     NP P/ LB       Q P/LB  \\\n",
      "0        273.965759          319.005646  1897.248779   901.644592   \n",
      "1        274.103485          322.492096  1901.969849  1003.128357   \n",
      "2        272.308258          318.220947  1900.131714   851.462891   \n",
      "3        272.467804          319.450348  1899.395874  1000.496216   \n",
      "4        273.197876          317.885010  1898.153687  1000.018066   \n",
      "\n",
      "   DESCARGA 001-P-05AB    DP P/ LB  \n",
      "0          1598.307007  700.637878  \n",
      "1          1768.283203  700.541382  \n",
      "2          1602.943237  650.274902  \n",
      "3          1528.935059  589.991028  \n",
      "4          1512.973633  588.086853  \n",
      "\n",
      "[5 rows x 68 columns]\n"
     ]
    }
   ],
   "source": [
    "# Salvar o DataFrame limpo em um novo arquivo Excel\n",
    "df.to_excel('dados_limpos.xlsx', index=False)\n",
    "print(\"\\nDados limpos foram salvos em 'dados_limpos.xlsx'\")\n",
    "print(df.head())\n"
   ]
  },
  {
   "cell_type": "markdown",
   "metadata": {},
   "source": [
    "10"
   ]
  },
  {
   "cell_type": "code",
   "execution_count": 10,
   "metadata": {},
   "outputs": [
    {
     "name": "stdout",
     "output_type": "stream",
     "text": [
      "\n",
      "Total de linhas após remover células vazias: 362\n",
      "\n",
      "Primeiras 5 linhas após remoção de células vazias:\n",
      "                Datas  SAL EM PETROLEO MET.POTEN  SUCCAO 01-P-01A/B  \\\n",
      "0 2024-12-03 09:00:00                          2           3.985596   \n",
      "1 2024-12-02 09:00:00                          2           3.989899   \n",
      "2 2024-12-01 09:00:00                          4           4.280632   \n",
      "3 2024-11-30 21:00:00                          6           3.803757   \n",
      "4 2024-11-30 09:00:00                          9           4.009426   \n",
      "\n",
      "   PET P/ 1a.BATERIA  PET P/ 01-E-03A/B  PET P/ 01-E-04A/F   AGUA BAT.  \\\n",
      "0          26.744247          52.792759          70.117332  347.581207   \n",
      "1          25.399412          50.566494          69.303711  367.763092   \n",
      "2          26.929869          51.511902          68.766235  366.493958   \n",
      "3          27.977982          53.044140          69.639572  367.638977   \n",
      "4          28.566402          53.916306          69.948586  368.045013   \n",
      "\n",
      "    PET E04AF  ENTRADA E33 CRU   ABR E-15  ...  SAIDA BATERIA  \\\n",
      "0  128.495880        18.244637  52.779049  ...     264.008759   \n",
      "1  121.756180        18.294065  50.415707  ...     262.764374   \n",
      "2  127.422874        18.573433  52.263351  ...     266.268524   \n",
      "3  131.418442        18.299627  52.083843  ...     267.014252   \n",
      "4  133.921494        18.164860  52.173916  ...     269.437378   \n",
      "\n",
      "   PASSO 3 E 4 SAIDA RADIACAO  NP-1 P/ 01-C-02A  Q-1 P/ 01-C-02B  \\\n",
      "0                  365.320099        170.885559       237.545517   \n",
      "1                  365.596008        162.409470       232.826126   \n",
      "2                  364.937744        168.447769       236.695724   \n",
      "3                  364.493103        164.827637       234.271744   \n",
      "4                  364.675629        166.067291       235.250427   \n",
      "\n",
      "   DL-1 P/ 01-C-02C  DP-1 P/ 01-C-02D.1     NP P/ LB       Q P/LB  \\\n",
      "0        273.965759          319.005646  1897.248779   901.644592   \n",
      "1        274.103485          322.492096  1901.969849  1003.128357   \n",
      "2        272.308258          318.220947  1900.131714   851.462891   \n",
      "3        272.467804          319.450348  1899.395874  1000.496216   \n",
      "4        273.197876          317.885010  1898.153687  1000.018066   \n",
      "\n",
      "   DESCARGA 001-P-05AB    DP P/ LB  \n",
      "0          1598.307007  700.637878  \n",
      "1          1768.283203  700.541382  \n",
      "2          1602.943237  650.274902  \n",
      "3          1528.935059  589.991028  \n",
      "4          1512.973633  588.086853  \n",
      "\n",
      "[5 rows x 68 columns]\n"
     ]
    }
   ],
   "source": [
    "df_sem_nan = df.dropna()\n",
    "\n",
    "# Exibir o número total de linhas restantes\n",
    "print(f\"\\nTotal de linhas após remover células vazias: {len(df_sem_nan)}\")\n",
    "\n",
    "# Exibir as primeiras linhas do DataFrame resultante\n",
    "print(\"\\nPrimeiras 5 linhas após remoção de células vazias:\")\n",
    "print(df_sem_nan.head())\n"
   ]
  },
  {
   "cell_type": "markdown",
   "metadata": {},
   "source": [
    "11"
   ]
  },
  {
   "cell_type": "code",
   "execution_count": 11,
   "metadata": {},
   "outputs": [
    {
     "name": "stdout",
     "output_type": "stream",
     "text": [
      "\n",
      "Dados sem células vazias foram salvos em 'dados_sem_nan.xlsx'\n"
     ]
    }
   ],
   "source": [
    "# Salvar o DataFrame limpo em um novo arquivo Excel\n",
    "df_sem_nan.to_excel('dados_sem_nan.xlsx', index=False)\n",
    "print(\"\\nDados sem células vazias foram salvos em 'dados_sem_nan.xlsx'\")\n"
   ]
  },
  {
   "cell_type": "markdown",
   "metadata": {},
   "source": [
    "12"
   ]
  },
  {
   "cell_type": "code",
   "execution_count": 12,
   "metadata": {},
   "outputs": [
    {
     "name": "stdout",
     "output_type": "stream",
     "text": [
      "Nomes das colunas disponíveis: Index(['Datas', 'SAL EM PETROLEO MET.POTEN', 'SUCCAO 01-P-01A/B',\n",
      "       'PET P/ 1a.BATERIA', 'PET P/ 01-E-03A/B', 'PET P/ 01-E-04A/F',\n",
      "       'AGUA BAT.', 'PET E04AF', 'ENTRADA E33 CRU', 'ABR E-15', 'PET P/V3A',\n",
      "       'DELTA V3A', '01-V-03A', '01-V-03A.1', 'SALMOURA', 'AGUA V3',\n",
      "       'AGUA E-25 P/ V-03', 'PET V-03A', 'DELTA V3B', 'PET P/V3B', '01-V-03B',\n",
      "       '001V3B ALIVIO P/ TOCHA', 'PET V-03B SAIDA', 'AGUA TRAT P/ U-01/101',\n",
      "       'succao 01-P-16', 'SAL P/E26', 'SAL P/E25 SALMOURA',\n",
      "       'ANALISADOR DE NH3', 'SUCCAO P23A/B', 'CRU ENTRADA 01E5',\n",
      "       'PET P/ 01-E-05A/B', 'RCS P/ 01-P-04A/B', 'PET P/ 01-E-06A/B',\n",
      "       'GOP-1 E7B SAIDA', 'GOP-1 E7D SAIDA', 'PET P/ 01-E-27B', 'CARGA 01',\n",
      "       'SUCCAO P28A/B', 'DESCARGA 01P28A/B', 'SAIDA E32 CRU',\n",
      "       'SAIDA E32 CRU.1', 'DP-1 P/ 01-C-02D', 'PET E-06A SAIDA',\n",
      "       'PET E-06B SAIDA', 'PRESSAO E27', 'DL-1 P/ 01-P-05A/B', 'PET P/E27B',\n",
      "       'GOP-1 E27A SAIDA', 'DL-1 E-09 Saida', 'PET E-27B SAIDA', 'ABR E-15.1',\n",
      "       'ENTRADA E19 CRU', 'ENTRADA E19 CRU.1', 'SAIDA E19 RCI',\n",
      "       'SAIDA E19 CRU', 'RV-1 E-28B SAIDA', 'PET E-28B SAIDA',\n",
      "       'RV-1 E-28A SAIDA', 'SAIDA BATERIA', 'PASSO 3 E 4 SAIDA RADIACAO',\n",
      "       'NP-1 P/ 01-C-02A', 'Q-1 P/ 01-C-02B', 'DL-1 P/ 01-C-02C',\n",
      "       'DP-1 P/ 01-C-02D.1', 'NP P/ LB', 'Q P/LB', 'DESCARGA 001-P-05AB',\n",
      "       'DP P/ LB'],\n",
      "      dtype='object')\n"
     ]
    }
   ],
   "source": [
    "# Exibir os nomes das colunas carregadas no DataFrame\n",
    "print(\"Nomes das colunas disponíveis:\", df_sem_nan.columns)\n"
   ]
  },
  {
   "cell_type": "markdown",
   "metadata": {},
   "source": [
    "13"
   ]
  },
  {
   "cell_type": "code",
   "execution_count": 13,
   "metadata": {},
   "outputs": [
    {
     "name": "stderr",
     "output_type": "stream",
     "text": [
      "C:\\Users\\FQ1O\\AppData\\Local\\Temp\\ipykernel_5820\\557649515.py:2: SettingWithCopyWarning: \n",
      "A value is trying to be set on a copy of a slice from a DataFrame.\n",
      "Try using .loc[row_indexer,col_indexer] = value instead\n",
      "\n",
      "See the caveats in the documentation: https://pandas.pydata.org/pandas-docs/stable/user_guide/indexing.html#returning-a-view-versus-a-copy\n",
      "  df_sem_nan['Datas'] = pd.to_datetime(df_sem_nan['Datas'], errors='coerce')  # Converter para datetime\n",
      "C:\\Users\\FQ1O\\AppData\\Local\\Temp\\ipykernel_5820\\557649515.py:5: SettingWithCopyWarning: \n",
      "A value is trying to be set on a copy of a slice from a DataFrame.\n",
      "Try using .loc[row_indexer,col_indexer] = value instead\n",
      "\n",
      "See the caveats in the documentation: https://pandas.pydata.org/pandas-docs/stable/user_guide/indexing.html#returning-a-view-versus-a-copy\n",
      "  df_sem_nan['Datas'] = df_sem_nan['Datas']\n"
     ]
    },
    {
     "data": {
      "text/plain": [
       "<Figure size 2000x1000 with 0 Axes>"
      ]
     },
     "execution_count": 13,
     "metadata": {},
     "output_type": "execute_result"
    },
    {
     "data": {
      "text/plain": [
       "<Figure size 2000x1000 with 0 Axes>"
      ]
     },
     "metadata": {},
     "output_type": "display_data"
    }
   ],
   "source": [
    "# Garantir que a coluna \"Datas\" seja convertida para datetime\n",
    "df_sem_nan['Datas'] = pd.to_datetime(df_sem_nan['Datas'], errors='coerce')  # Converter para datetime\n",
    "\n",
    "# Criar uma cópia da coluna 'Datas' para não perder a informação\n",
    "df_sem_nan['Datas'] = df_sem_nan['Datas']\n",
    "\n",
    "# Definir a coluna \"Datas\" como índice\n",
    "df_sem_nan.set_index('Datas', inplace=True)  # Definir a coluna \"Datas\" como índice\n",
    "\n",
    "# Identificar as colunas de C em diante (começando da terceira coluna)\n",
    "colunas_variaveis = df_sem_nan.columns[1:]  # Exclui a coluna de índice\n",
    "\n",
    "# Configurar o tamanho do gráfico\n",
    "plt.figure(figsize=(20, 10))\n"
   ]
  },
  {
   "cell_type": "markdown",
   "metadata": {},
   "source": [
    "14"
   ]
  },
  {
   "cell_type": "code",
   "execution_count": 14,
   "metadata": {},
   "outputs": [
    {
     "name": "stderr",
     "output_type": "stream",
     "text": [
      "C:\\Users\\FQ1O\\AppData\\Local\\Temp\\ipykernel_5820\\428644130.py:10: UserWarning: Tight layout not applied. The bottom and top margins cannot be made large enough to accommodate all Axes decorations.\n",
      "  plt.tight_layout()\n"
     ]
    }
   ],
   "source": [
    "# Plotar todas as colunas em função da coluna \"Datas\"\n",
    "for coluna in colunas_variaveis:\n",
    "    plt.plot(df_sem_nan.index, df_sem_nan[coluna], label=coluna, linewidth=0.8)\n",
    "\n",
    "# Adicionar título e rótulos\n",
    "plt.title(\"Variação de Todas as Variáveis ao Longo do Tempo\", fontsize=16)\n",
    "plt.xlabel(\"Data\", fontsize=14)\n",
    "plt.ylabel(\"Valores\", fontsize=14)\n",
    "plt.legend(loc='upper left', bbox_to_anchor=(1.05, 1), ncol=1, fontsize=8)  # Legenda fora do gráfico\n",
    "plt.tight_layout()\n",
    "\n",
    "pdf.savefig()  # Salvar o gráfico atual no PDF\n",
    "plt.close()    # Fechar o gráfico para liberar memória\n",
    "\n"
   ]
  },
  {
   "cell_type": "markdown",
   "metadata": {},
   "source": [
    "15"
   ]
  },
  {
   "cell_type": "code",
   "execution_count": 15,
   "metadata": {},
   "outputs": [
    {
     "name": "stdout",
     "output_type": "stream",
     "text": [
      "Nomes das colunas disponíveis: Index(['SAL EM PETROLEO MET.POTEN', 'SUCCAO 01-P-01A/B', 'PET P/ 1a.BATERIA',\n",
      "       'PET P/ 01-E-03A/B', 'PET P/ 01-E-04A/F', 'AGUA BAT.', 'PET E04AF',\n",
      "       'ENTRADA E33 CRU', 'ABR E-15', 'PET P/V3A', 'DELTA V3A', '01-V-03A',\n",
      "       '01-V-03A.1', 'SALMOURA', 'AGUA V3', 'AGUA E-25 P/ V-03', 'PET V-03A',\n",
      "       'DELTA V3B', 'PET P/V3B', '01-V-03B', '001V3B ALIVIO P/ TOCHA',\n",
      "       'PET V-03B SAIDA', 'AGUA TRAT P/ U-01/101', 'succao 01-P-16',\n",
      "       'SAL P/E26', 'SAL P/E25 SALMOURA', 'ANALISADOR DE NH3', 'SUCCAO P23A/B',\n",
      "       'CRU ENTRADA 01E5', 'PET P/ 01-E-05A/B', 'RCS P/ 01-P-04A/B',\n",
      "       'PET P/ 01-E-06A/B', 'GOP-1 E7B SAIDA', 'GOP-1 E7D SAIDA',\n",
      "       'PET P/ 01-E-27B', 'CARGA 01', 'SUCCAO P28A/B', 'DESCARGA 01P28A/B',\n",
      "       'SAIDA E32 CRU', 'SAIDA E32 CRU.1', 'DP-1 P/ 01-C-02D',\n",
      "       'PET E-06A SAIDA', 'PET E-06B SAIDA', 'PRESSAO E27',\n",
      "       'DL-1 P/ 01-P-05A/B', 'PET P/E27B', 'GOP-1 E27A SAIDA',\n",
      "       'DL-1 E-09 Saida', 'PET E-27B SAIDA', 'ABR E-15.1', 'ENTRADA E19 CRU',\n",
      "       'ENTRADA E19 CRU.1', 'SAIDA E19 RCI', 'SAIDA E19 CRU',\n",
      "       'RV-1 E-28B SAIDA', 'PET E-28B SAIDA', 'RV-1 E-28A SAIDA',\n",
      "       'SAIDA BATERIA', 'PASSO 3 E 4 SAIDA RADIACAO', 'NP-1 P/ 01-C-02A',\n",
      "       'Q-1 P/ 01-C-02B', 'DL-1 P/ 01-C-02C', 'DP-1 P/ 01-C-02D.1', 'NP P/ LB',\n",
      "       'Q P/LB', 'DESCARGA 001-P-05AB', 'DP P/ LB'],\n",
      "      dtype='object')\n"
     ]
    }
   ],
   "source": [
    "# Exibir os nomes das colunas carregadas no DataFrame\n",
    "print(\"Nomes das colunas disponíveis:\", df_sem_nan.columns)\n"
   ]
  },
  {
   "cell_type": "markdown",
   "metadata": {},
   "source": [
    "16"
   ]
  },
  {
   "cell_type": "code",
   "execution_count": 16,
   "metadata": {},
   "outputs": [
    {
     "name": "stdout",
     "output_type": "stream",
     "text": [
      "Correlação entre 'SAL EM PETROLEO MET.POTEN' e as outras colunas:\n",
      "Datas                        0.227531\n",
      "SAL EM PETROLEO MET.POTEN    1.000000\n",
      "SUCCAO 01-P-01A/B            0.043416\n",
      "PET P/ 1a.BATERIA            0.042851\n",
      "PET P/ 01-E-03A/B            0.029345\n",
      "                               ...   \n",
      "DP-1 P/ 01-C-02D.1           0.171607\n",
      "NP P/ LB                     0.104991\n",
      "Q P/LB                       0.048136\n",
      "DESCARGA 001-P-05AB         -0.147073\n",
      "DP P/ LB                    -0.100337\n",
      "Name: SAL EM PETROLEO MET.POTEN, Length: 68, dtype: float64\n"
     ]
    }
   ],
   "source": [
    "# Carregar os dados\n",
    "file_path = 'dados_sem_nan.xlsx'\n",
    "df_sem_nan = pd.read_excel(file_path)\n",
    "\n",
    "# Garantir que a coluna \"Datas\" seja convertida para datetime\n",
    "df_sem_nan['Datas'] = pd.to_datetime(df_sem_nan['Datas'], errors='coerce')  # Converter para datetime\n",
    "\n",
    "# Calcular a correlação entre \"SAL EM PETROLEO MET.POTEN\" e as outras colunas\n",
    "coluna_alvo = \"SAL EM PETROLEO MET.POTEN\"\n",
    "correlacao = df_sem_nan.corr()[coluna_alvo]\n",
    "\n",
    "# Exibir as correlações\n",
    "print(f\"Correlação entre '{coluna_alvo}' e as outras colunas:\")\n",
    "print(correlacao)\n"
   ]
  },
  {
   "cell_type": "markdown",
   "metadata": {},
   "source": [
    "17"
   ]
  },
  {
   "cell_type": "code",
   "execution_count": 17,
   "metadata": {},
   "outputs": [],
   "source": [
    "# Selecionar as colunas para comparação (excluindo a coluna alvo \"SAL EM PETROLEO MET.POTEN\")\n",
    "colunas_para_comparar = df_sem_nan.columns[df_sem_nan.columns != coluna_alvo]\n",
    "\n",
    "# Definir o número de linhas e colunas para os gráficos\n",
    "n_linhas = 14  # Número de linhas de gráficos\n",
    "n_colunas = 6  # Número de colunas de gráficos\n",
    "\n",
    "# Configurar o tamanho do gráfico (aumentado para gráficos maiores)\n",
    "plt.figure(figsize=(n_colunas * 8, n_linhas * 6))  # Ajuste os valores conforme necessário\n",
    "\n",
    "# Gerar gráfico de dispersão para cada coluna em relação à coluna alvo\n",
    "for i, coluna in enumerate(colunas_para_comparar):\n",
    "    ax = plt.subplot(n_linhas, n_colunas, i+1)  # Ajuste o layout de acordo com o número de colunas\n",
    "    plt.scatter(df_sem_nan['Datas'], df_sem_nan[coluna], alpha=0.9)  # Usando 'Datas' como eixo x\n",
    "    \n",
    "    # Títulos e rótulos\n",
    "    plt.title(f'{coluna}', fontsize=22)  # Aumentando o tamanho do título\n",
    "    plt.xlabel('Datas', fontsize=20)  # Rótulo do eixo X (Datas)\n",
    "    plt.ylabel(coluna, fontsize=20)  # Rótulo do eixo Y\n",
    "    \n",
    "    # Ajustar o tamanho das marcas nos eixos (ticks)\n",
    "    plt.tick_params(axis='x', labelsize=18)  # Aumentando o tamanho das marcações no eixo X\n",
    "    plt.tick_params(axis='y', labelsize=18)  # Aumentando o tamanho das marcações no eixo Y\n",
    "    plt.xticks(rotation=45)\n",
    "    \n",
    "    # Adicionar linha divisória vertical e horizontal\n",
    "    if (i + 1) % n_colunas == 0:  # Divisória a cada n_colunas gráficos\n",
    "        ax.spines['right'].set_linestyle('dashed')\n",
    "        ax.spines['right'].set_linewidth(2)\n",
    "    \n",
    "    if (i + 1) // n_colunas == 0:  # Divisória a cada linha\n",
    "        ax.spines['bottom'].set_linestyle('dashed')\n",
    "        ax.spines['bottom'].set_linewidth(2)\n",
    "\n",
    "    if (i + 1) % n_colunas == 0:  # Divisória a cada n_colunas gráficos\n",
    "        ax.spines['left'].set_linestyle('dashed')\n",
    "        ax.spines['left'].set_linewidth(2)\n",
    "\n",
    "# Ajustar o espaçamento entre os gráficos (horizontal e vertical)\n",
    "plt.subplots_adjust(hspace=1, wspace=1)  # Ajuste o espaçamento conforme necessário\n",
    "\n",
    "pdf.savefig()  # Salvar o gráfico atual no PDF\n",
    "plt.close()    # Fechar o gráfico para liberar memória\n"
   ]
  },
  {
   "cell_type": "markdown",
   "metadata": {},
   "source": [
    "18"
   ]
  },
  {
   "cell_type": "code",
   "execution_count": 18,
   "metadata": {},
   "outputs": [],
   "source": [
    "# Selecionar as colunas para comparação (excluindo \"SAL EM PETROLEO MET.POTEN\" e \"Datas\")\n",
    "colunas_para_comparar = df_sem_nan.columns.difference(['SAL EM PETROLEO MET.POTEN', 'Datas'])\n",
    "\n",
    "# Definir o número de linhas e colunas para os gráficos\n",
    "n_linhas = 14  # Número de linhas de gráficos\n",
    "n_colunas = 6  # Número de colunas de gráficos\n",
    "\n",
    "# Configurar o tamanho do gráfico (aumentado para gráficos maiores)\n",
    "plt.figure(figsize=(n_colunas * 8, n_linhas * 6))  # Ajuste os valores conforme necessário\n",
    "\n",
    "# Gerar gráfico para cada coluna em relação à coluna alvo\n",
    "for i, coluna in enumerate(colunas_para_comparar):\n",
    "    ax = plt.subplot(n_linhas, n_colunas, i + 1)\n",
    "    \n",
    "    # Garantir que tanto eixo X quanto eixo Y sejam numéricos\n",
    "    if pd.api.types.is_numeric_dtype(df_sem_nan[coluna]) and pd.api.types.is_numeric_dtype(df_sem_nan[coluna_alvo]):\n",
    "        eixo_y = df_sem_nan['Datas'] if 'Datas' in df_sem_nan.columns else df_sem_nan.index\n",
    "        \n",
    "        # Gerar o gráfico de dispersão (kdeplot)\n",
    "        sns.kdeplot(\n",
    "            x=df_sem_nan[coluna_alvo],\n",
    "            y=df_sem_nan[coluna],\n",
    "            fill=True,\n",
    "            cmap='viridis',\n",
    "            alpha=0.8,\n",
    "            ax=ax\n",
    "        )\n",
    "        \n",
    "        # Títulos e rótulos\n",
    "        plt.title(f'Heatmap: {coluna}', fontsize=22)\n",
    "        plt.xlabel(coluna_alvo, fontsize=20)\n",
    "        plt.tick_params(axis='x', labelsize=18)\n",
    "        plt.tick_params(axis='y', labelsize=18)\n",
    "        plt.xticks(rotation=45)    \n",
    "    else:\n",
    "        # Caso não seja numérica, podemos simplesmente pular o gráfico ou usar outro tipo de visualização\n",
    "        plt.axis('off')  # Desabilita o gráfico se não for numérico\n",
    "\n",
    "# Ajustar o espaçamento entre os gráficos (horizontal e vertical)\n",
    "plt.subplots_adjust(hspace=1, wspace=1)  # Ajuste o espaçamento conforme necessário\n",
    "\n",
    "pdf.savefig()  # Salvar o gráfico atual no PDF\n",
    "plt.close()    # Fechar o gráfico para liberar memória\n",
    "\n"
   ]
  },
  {
   "cell_type": "markdown",
   "metadata": {},
   "source": [
    "19"
   ]
  },
  {
   "cell_type": "code",
   "execution_count": 19,
   "metadata": {},
   "outputs": [],
   "source": [
    "# Selecionar as colunas para comparação (excluindo \"SAL EM PETROLEO MET.POTEN\" e \"Datas\")\n",
    "colunas_para_comparar = df_sem_nan.columns.difference(['SAL EM PETROLEO MET.POTEN', 'Datas'])\n",
    "\n",
    "# Definir o número de linhas e colunas para os gráficos\n",
    "n_linhas = 14  # Ajuste conforme o número de gráficos\n",
    "n_colunas = 9\n",
    "\n",
    "# Configurar o tamanho do gráfico\n",
    "plt.figure(figsize=(n_colunas * 6, n_linhas * 4))  # Ajuste o tamanho conforme necessário\n",
    "\n",
    "# Gerar gráfico de barras para cada coluna em relação à coluna \"SAL EM PETROLEO MET.POTEN\"\n",
    "for i, coluna in enumerate(colunas_para_comparar):\n",
    "    ax = plt.subplot(n_linhas, n_colunas, i + 1)\n",
    "    \n",
    "    # Plotar os valores das colunas em relação à coluna \"SAL EM PETROLEO MET.POTEN\"\n",
    "    plt.bar(df_sem_nan['SAL EM PETROLEO MET.POTEN'], df_sem_nan[coluna], alpha=0.7)\n",
    "    \n",
    "    # Títulos e rótulos\n",
    "    plt.title(f'{coluna}', fontsize=22)\n",
    "    plt.xlabel('SAL EM PETROLEO MET.POTEN', fontsize=20)\n",
    "    plt.tick_params(axis='x', labelsize=18)\n",
    "    plt.tick_params(axis='y', labelsize=18)\n",
    "    plt.xticks(rotation=45)\n",
    "\n",
    "# Ajustar o espaçamento entre os gráficos\n",
    "plt.tight_layout()\n",
    "plt.subplots_adjust(hspace=1, wspace=1)\n",
    "\n",
    "pdf.savefig()  # Salvar o gráfico atual no PDF\n",
    "plt.close()    # Fechar o gráfico para liberar memória\n"
   ]
  },
  {
   "cell_type": "markdown",
   "metadata": {},
   "source": [
    "20"
   ]
  },
  {
   "cell_type": "code",
   "execution_count": 20,
   "metadata": {},
   "outputs": [
    {
     "name": "stdout",
     "output_type": "stream",
     "text": [
      "Exportando gráficos para o arquivo 'todos_graficos.pdf'\n"
     ]
    }
   ],
   "source": [
    "# Carregar os dados\n",
    "file_path = 'dados_sem_nan.xlsx'\n",
    "df_sem_nan = pd.read_excel(file_path)\n",
    "\n",
    "# Nome do arquivo PDF de saída\n",
    "output_pdf = \"todos_graficos.pdf\"\n",
    "\n",
    "# Criar uma instância do PdfPages\n",
    "pdf = PdfPages(output_pdf)\n",
    "print(f\"Exportando gráficos para o arquivo '{output_pdf}'\")\n"
   ]
  },
  {
   "cell_type": "markdown",
   "metadata": {},
   "source": [
    "21"
   ]
  },
  {
   "cell_type": "code",
   "execution_count": 21,
   "metadata": {},
   "outputs": [
    {
     "name": "stdout",
     "output_type": "stream",
     "text": [
      "Resumo estatístico geral:\n",
      "                               Datas  SAL EM PETROLEO MET.POTEN  \\\n",
      "count                            362                 362.000000   \n",
      "mean   2024-06-20 01:05:43.093922560                   4.441989   \n",
      "min              2023-12-10 20:00:00                   2.000000   \n",
      "25%              2024-03-29 15:00:00                   3.000000   \n",
      "50%              2024-06-22 21:00:00                   4.000000   \n",
      "75%              2024-09-18 07:00:00                   5.000000   \n",
      "max              2024-12-03 09:00:00                   9.000000   \n",
      "std                              NaN                   1.521118   \n",
      "\n",
      "       SUCCAO 01-P-01A/B  PET P/ 1a.BATERIA  PET P/ 01-E-03A/B  \\\n",
      "count         362.000000         362.000000         362.000000   \n",
      "mean            4.743799          26.656754          49.109739   \n",
      "min             1.121261          23.758303          42.102257   \n",
      "25%             4.041490          25.391665          47.768235   \n",
      "50%             4.536480          26.968199          49.133142   \n",
      "75%             5.506058          27.746564          50.559079   \n",
      "max             6.987870          30.558380          55.411308   \n",
      "std             0.946604           1.358052           2.061734   \n",
      "\n",
      "       PET P/ 01-E-04A/F   AGUA BAT.   PET E04AF  ENTRADA E33 CRU    ABR E-15  \\\n",
      "count         362.000000  362.000000  362.000000       362.000000  362.000000   \n",
      "mean           67.238241  253.710427  127.497448        17.642632   45.429694   \n",
      "min            57.659088  122.529938  114.275650        16.430021   34.336170   \n",
      "25%            65.676498  202.969296  124.284784        17.395445   40.230983   \n",
      "50%            67.400070  249.262321  127.731266        17.694483   46.514030   \n",
      "75%            69.023012  304.217438  130.636463        17.813437   49.337880   \n",
      "max            74.343903  390.061371  138.023193        18.827515   56.918228   \n",
      "std             2.637980   63.403069    4.482080         0.350389    5.108874   \n",
      "\n",
      "       ...  SAIDA BATERIA  PASSO 3 E 4 SAIDA RADIACAO  NP-1 P/ 01-C-02A  \\\n",
      "count  ...     362.000000                  362.000000        362.000000   \n",
      "mean   ...     266.810296                  363.665768        167.453233   \n",
      "min    ...     252.697479                  150.004578        156.063644   \n",
      "25%    ...     262.971275                  364.101624        162.641628   \n",
      "50%    ...     266.333069                  364.676895        167.960098   \n",
      "75%    ...     271.853157                  365.046928        171.080544   \n",
      "max    ...     282.453674                  367.407410        181.895935   \n",
      "std    ...       6.507026                   11.393416          5.327438   \n",
      "\n",
      "       Q-1 P/ 01-C-02B  DL-1 P/ 01-C-02C  DP-1 P/ 01-C-02D.1     NP P/ LB  \\\n",
      "count       362.000000        362.000000          362.000000   362.000000   \n",
      "mean        223.649362        269.052310          314.709196  1599.534573   \n",
      "min         195.322403        254.313248          295.381348  1050.604492   \n",
      "25%         216.246334        266.373001          312.826195  1499.700775   \n",
      "50%         226.221489        269.541870          315.778687  1601.634033   \n",
      "75%         231.705051        271.772217          317.802589  1652.369202   \n",
      "max         238.617630        279.600983          324.176514  1974.347168   \n",
      "std           9.214497          4.343422            4.847371   172.381301   \n",
      "\n",
      "            Q P/LB  DESCARGA 001-P-05AB    DP P/ LB  \n",
      "count   362.000000           362.000000  362.000000  \n",
      "mean    800.743999          1839.566365  594.198407  \n",
      "min     364.616547           980.104980  298.873138  \n",
      "25%     666.219040          1671.634491  551.128235  \n",
      "50%     811.973785          1802.306885  629.704620  \n",
      "75%     925.273743          2028.723938  670.080139  \n",
      "max    1251.640869          2393.947754  801.062561  \n",
      "std     185.366102           240.279930  114.520896  \n",
      "\n",
      "[8 rows x 68 columns]\n"
     ]
    }
   ],
   "source": [
    "# Garantir que \"Datas\" seja datetime\n",
    "df_sem_nan['Datas'] = pd.to_datetime(df_sem_nan['Datas'], errors='coerce')\n",
    "\n",
    "# Selecionar a coluna alvo e variáveis independentes\n",
    "coluna_alvo = \"SAL EM PETROLEO MET.POTEN\"\n",
    "colunas_para_analisar = df_sem_nan.columns.difference(['Datas', coluna_alvo])\n",
    "\n",
    "# Resumo estatístico\n",
    "print(\"Resumo estatístico geral:\")\n",
    "print(df_sem_nan.describe())\n"
   ]
  },
  {
   "cell_type": "markdown",
   "metadata": {},
   "source": [
    "22"
   ]
  },
  {
   "cell_type": "code",
   "execution_count": 22,
   "metadata": {},
   "outputs": [
    {
     "name": "stdout",
     "output_type": "stream",
     "text": [
      "\n",
      "Correlação com 'SAL EM PETROLEO MET.POTEN':\n",
      "Datas                  0.227531\n",
      "SUCCAO 01-P-01A/B      0.043416\n",
      "PET P/ 1a.BATERIA      0.042851\n",
      "PET P/ 01-E-03A/B      0.029345\n",
      "PET P/ 01-E-04A/F     -0.140912\n",
      "                         ...   \n",
      "DP-1 P/ 01-C-02D.1     0.171607\n",
      "NP P/ LB               0.104991\n",
      "Q P/LB                 0.048136\n",
      "DESCARGA 001-P-05AB   -0.147073\n",
      "DP P/ LB              -0.100337\n",
      "Name: SAL EM PETROLEO MET.POTEN, Length: 67, dtype: float64\n"
     ]
    }
   ],
   "source": [
    "# Correlações\n",
    "correlacoes = df_sem_nan.corr()[coluna_alvo].drop(labels=[coluna_alvo])\n",
    "print(f\"\\nCorrelação com '{coluna_alvo}':\")\n",
    "print(correlacoes)\n"
   ]
  },
  {
   "cell_type": "markdown",
   "metadata": {},
   "source": [
    "23"
   ]
  },
  {
   "cell_type": "code",
   "execution_count": 23,
   "metadata": {},
   "outputs": [],
   "source": [
    "# Visualização 1: Tendência temporal\n",
    "plt.figure(figsize=(16, 8))\n",
    "plt.plot(df_sem_nan['Datas'], df_sem_nan[coluna_alvo], label=coluna_alvo, color='blue', linewidth=2)\n",
    "plt.title(f\"Tendência Temporal de {coluna_alvo}\", fontsize=16)\n",
    "plt.xlabel(\"Datas\", fontsize=14)\n",
    "plt.ylabel(coluna_alvo, fontsize=14)\n",
    "plt.grid(True)\n",
    "plt.legend(fontsize=12)\n",
    "pdf.savefig()  # Salvar o gráfico atual no PDF\n",
    "plt.close()    # Fechar o gráfico para liberar memória\n"
   ]
  },
  {
   "cell_type": "markdown",
   "metadata": {},
   "source": [
    "24"
   ]
  },
  {
   "cell_type": "code",
   "execution_count": 24,
   "metadata": {},
   "outputs": [
    {
     "name": "stderr",
     "output_type": "stream",
     "text": [
      "C:\\Users\\FQ1O\\AppData\\Local\\Temp\\ipykernel_5820\\1111782843.py:10: UserWarning: Tight layout not applied. The bottom and top margins cannot be made large enough to accommodate all Axes decorations.\n",
      "  plt.tight_layout()\n"
     ]
    }
   ],
   "source": [
    "# Visualização 2: Dispersão por variável\n",
    "plt.figure(figsize=(16, 8))\n",
    "for coluna in colunas_para_analisar:\n",
    "    plt.scatter(df_sem_nan['Datas'], df_sem_nan[coluna], alpha=0.6, label=coluna)\n",
    "plt.title(\"Dispersão de Variáveis ao Longo do Tempo\", fontsize=16)\n",
    "plt.xlabel(\"Datas\", fontsize=14)\n",
    "plt.ylabel(\"Valores\", fontsize=14)\n",
    "plt.legend(loc='upper left', bbox_to_anchor=(1, 1), fontsize=10)\n",
    "plt.grid(True)\n",
    "plt.tight_layout()\n",
    "pdf.savefig()  # Salvar o gráfico atual no PDF\n",
    "plt.close()    # Fechar o gráfico para liberar memória\n"
   ]
  },
  {
   "cell_type": "markdown",
   "metadata": {},
   "source": [
    "25"
   ]
  },
  {
   "cell_type": "code",
   "execution_count": 25,
   "metadata": {},
   "outputs": [],
   "source": [
    "# Visualização 3: Heatmap de correlações (sem números)\n",
    "plt.figure(figsize=(12, 10))\n",
    "sns.heatmap(df_sem_nan.corr(), annot=False, cmap='coolwarm', linewidths=0.5)  # annot=False remove os números\n",
    "plt.title(\"Mapa de Correlações\", fontsize=16)\n",
    "pdf.savefig()  # Salvar o gráfico atual no PDF\n",
    "plt.close()    # Fechar o gráfico para liberar memória\n"
   ]
  },
  {
   "cell_type": "markdown",
   "metadata": {},
   "source": [
    "26"
   ]
  },
  {
   "cell_type": "code",
   "execution_count": 26,
   "metadata": {},
   "outputs": [],
   "source": [
    "# Dividir gráficos em lotes de 16\n",
    "colunas_por_pagina = 16\n",
    "total_paginas = -(-len(colunas_para_comparar) // colunas_por_pagina)  # Arredondar para cima\n",
    "\n",
    "for pagina in range(total_paginas):\n",
    "    plt.figure(figsize=(20, 15))\n",
    "    inicio = pagina * colunas_por_pagina\n",
    "    fim = inicio + colunas_por_pagina\n",
    "    colunas_subset = colunas_para_comparar[inicio:fim]\n",
    "    \n",
    "    for i, coluna in enumerate(colunas_subset, 1):\n",
    "        plt.subplot(4, 4, i)\n",
    "        plt.scatter(df_sem_nan['Datas'], df_sem_nan[coluna], alpha=0.7, label=coluna)\n",
    "        plt.plot(df_sem_nan['Datas'], df_sem_nan['SAL EM PETROLEO MET.POTEN'], color='red', alpha=0.7, label='SAL EM PETROLEO MET.POTEN')\n",
    "        plt.title(f\"{coluna}\", fontsize=22)\n",
    "        plt.xlabel(\"Datas\", fontsize=20)\n",
    "        plt.ylabel(\"Valores\", fontsize=20)\n",
    "        plt.xticks(rotation=45)\n",
    "        plt.legend(fontsize=8)\n",
    "    \n",
    "    plt.tight_layout()\n",
    "    pdf.savefig()  # Salvar o gráfico atual no PDF\n",
    "    plt.close()    # Fechar o gráfico para liberar memória\n",
    "\n"
   ]
  },
  {
   "cell_type": "markdown",
   "metadata": {},
   "source": [
    "27"
   ]
  },
  {
   "cell_type": "code",
   "execution_count": 27,
   "metadata": {},
   "outputs": [
    {
     "name": "stderr",
     "output_type": "stream",
     "text": [
      "C:\\Users\\FQ1O\\AppData\\Local\\Temp\\ipykernel_5820\\3996904772.py:9: FutureWarning: The default of observed=False is deprecated and will be changed to True in a future version of pandas. Pass observed=False to retain current behavior or observed=True to adopt the future default and silence this warning.\n",
      "  estatisticas = df_sem_nan.groupby('Categoria_PETROLEO').describe()\n"
     ]
    }
   ],
   "source": [
    "# Definir os intervalos para \"SAL EM PETROLEO MET.POTEN\"\n",
    "intervalos = [2, 3, 4, 5, 6, 7, 8, 9]\n",
    "categorias = pd.cut(df_sem_nan[\"SAL EM PETROLEO MET.POTEN\"], bins=intervalos, right=False, labels=[f\"[{i}-{i+1})\" for i in intervalos[:-1]])\n",
    "\n",
    "# Adicionar a coluna de categorias ao DataFrame\n",
    "df_sem_nan['Categoria_PETROLEO'] = categorias\n",
    "\n",
    "# Criar um DataFrame para estatísticas descritivas por categoria\n",
    "estatisticas = df_sem_nan.groupby('Categoria_PETROLEO').describe()\n"
   ]
  },
  {
   "cell_type": "markdown",
   "metadata": {},
   "source": [
    "28"
   ]
  },
  {
   "cell_type": "code",
   "execution_count": 28,
   "metadata": {},
   "outputs": [
    {
     "name": "stdout",
     "output_type": "stream",
     "text": [
      "Estatísticas descritivas por categoria:\n",
      "                   Datas                                                      \\\n",
      "                   count                           mean                  min   \n",
      "Categoria_PETROLEO                                                             \n",
      "[2-3)                 45  2024-06-04 09:27:59.999999744  2024-02-24 09:00:00   \n",
      "[3-4)                 54  2024-05-07 18:07:46.666666240  2023-12-12 09:00:00   \n",
      "[4-5)                 83  2024-05-30 08:01:59.277108224  2023-12-14 09:00:00   \n",
      "[5-6)                100  2024-07-28 13:32:44.999999488  2023-12-11 22:20:00   \n",
      "[6-7)                 50            2024-06-07 04:40:12  2023-12-10 20:00:00   \n",
      "[7-8)                 18            2024-07-05 14:30:00  2023-12-24 09:00:00   \n",
      "[8-9)                 10            2024-09-23 11:25:00  2024-02-14 09:00:00   \n",
      "\n",
      "                                                              \\\n",
      "                                    25%                  50%   \n",
      "Categoria_PETROLEO                                             \n",
      "[2-3)               2024-03-29 09:00:00  2024-06-16 11:00:00   \n",
      "[3-4)               2024-03-14 03:00:00  2024-04-26 21:00:00   \n",
      "[4-5)               2024-04-04 21:00:00  2024-05-20 09:00:00   \n",
      "[5-6)               2024-05-07 03:00:00  2024-08-23 00:00:00   \n",
      "[6-7)               2024-02-14 06:00:00  2024-07-17 09:00:00   \n",
      "[7-8)               2024-03-04 01:30:00  2024-08-02 20:30:00   \n",
      "[8-9)               2024-09-02 10:37:30  2024-10-27 21:30:00   \n",
      "\n",
      "                                                                   \\\n",
      "                                    75%                  max  std   \n",
      "Categoria_PETROLEO                                                  \n",
      "[2-3)               2024-07-06 21:00:00  2024-12-03 09:00:00  NaN   \n",
      "[3-4)               2024-06-16 09:00:00  2024-10-30 09:00:00  NaN   \n",
      "[4-5)               2024-08-02 09:00:00  2024-12-01 09:00:00  NaN   \n",
      "[5-6)               2024-10-22 03:00:00  2024-11-28 09:00:00  NaN   \n",
      "[6-7)               2024-09-18 21:45:00  2024-11-30 21:00:00  NaN   \n",
      "[7-8)               2024-10-19 06:52:30  2024-11-26 09:00:00  NaN   \n",
      "[8-9)               2024-11-18 23:00:00  2024-11-30 00:10:00  NaN   \n",
      "\n",
      "                   SAL EM PETROLEO MET.POTEN       ... DESCARGA 001-P-05AB  \\\n",
      "                                       count mean  ...                 max   \n",
      "Categoria_PETROLEO                                 ...                       \n",
      "[2-3)                                   45.0  2.0  ...         2385.608398   \n",
      "[3-4)                                   54.0  3.0  ...         2393.947754   \n",
      "[4-5)                                   83.0  4.0  ...         2335.872803   \n",
      "[5-6)                                  100.0  5.0  ...         2316.041260   \n",
      "[6-7)                                   50.0  6.0  ...         2316.978760   \n",
      "[7-8)                                   18.0  7.0  ...         2305.654053   \n",
      "[8-9)                                   10.0  8.0  ...         2181.869141   \n",
      "\n",
      "                               DP P/ LB                                      \\\n",
      "                           std    count        mean         min         25%   \n",
      "Categoria_PETROLEO                                                            \n",
      "[2-3)               238.816227     45.0  619.846830  298.873138  554.506531   \n",
      "[3-4)               257.338703     54.0  581.872510  350.053192  509.390549   \n",
      "[4-5)               236.657771     83.0  612.466230  299.779236  575.227570   \n",
      "[5-6)               228.339776    100.0  598.734011  299.070251  569.924255   \n",
      "[6-7)               227.441329     50.0  554.200255  320.596222  448.582497   \n",
      "[7-8)               191.575273     18.0  560.018719  319.922913  519.044083   \n",
      "[8-9)               185.880482     10.0  600.092435  348.197052  601.028107   \n",
      "\n",
      "                                                                    \n",
      "                           50%         75%         max         std  \n",
      "Categoria_PETROLEO                                                  \n",
      "[2-3)               650.118652  679.158936  749.588196  101.517351  \n",
      "[3-4)               614.562653  690.228745  749.807922  128.508298  \n",
      "[4-5)               629.809753  689.217224  801.062561  111.501234  \n",
      "[5-6)               629.794098  652.014954  800.765930  103.621958  \n",
      "[6-7)               590.046204  650.929062  769.057007  126.938060  \n",
      "[7-8)               622.158875  639.866440  689.561829  127.756527  \n",
      "[8-9)               635.241638  650.053589  650.803833   92.218934  \n",
      "\n",
      "[7 rows x 544 columns]\n"
     ]
    }
   ],
   "source": [
    "# Exibir estatísticas descritivas\n",
    "print(\"Estatísticas descritivas por categoria:\")\n",
    "print(estatisticas)\n"
   ]
  },
  {
   "cell_type": "markdown",
   "metadata": {},
   "source": [
    "29"
   ]
  },
  {
   "cell_type": "code",
   "execution_count": 29,
   "metadata": {},
   "outputs": [],
   "source": [
    "# Número total de colunas a serem plotadas\n",
    "colunas_para_analisar = df_sem_nan.columns.difference(['SAL EM PETROLEO MET.POTEN', 'Datas', 'Categoria_PETROLEO'])\n",
    "num_colunas = len(colunas_para_analisar)\n",
    "\n",
    "# Determinar o número de linhas e colunas para o grid de subplots\n",
    "linhas = math.ceil(num_colunas / 5)  # 4 colunas por linha\n",
    "colunas = min(5, num_colunas)       # Limitar a 4 colunas\n",
    "\n",
    "# Configurar o tamanho do gráfico geral\n",
    "plt.figure(figsize=(16, 5 * linhas))\n",
    "\n",
    "# Criar os subplots\n",
    "for i, coluna in enumerate(colunas_para_analisar, 1):\n",
    "    plt.subplot(linhas, colunas, i)\n",
    "    sns.boxplot(\n",
    "        x=\"Categoria_PETROLEO\",\n",
    "        y=coluna,\n",
    "        data=df_sem_nan,\n",
    "        hue=\"Categoria_PETROLEO\",  # Define a variável de cor\n",
    "        palette=\"coolwarm\",\n",
    "        legend=False  # Remove a legenda (opcional)\n",
    "    )\n",
    "    plt.title(f\"{coluna}\", fontsize=22)\n",
    "    plt.xlabel(\"SAL EM PETROLEO\", fontsize=20)\n",
    "    plt.xticks(rotation=45)\n",
    "\n",
    "# Ajustar espaçamento entre os gráficos\n",
    "plt.tight_layout()\n",
    "plt.subplots_adjust(hspace=1, wspace=1)  # Espaçamento vertical e horizontal\n",
    "\n",
    "pdf.savefig()  # Salvar o gráfico atual no PDF\n",
    "plt.close()    # Fechar o gráfico para liberar memória\n",
    "\n"
   ]
  },
  {
   "cell_type": "markdown",
   "metadata": {},
   "source": [
    "30"
   ]
  },
  {
   "cell_type": "code",
   "execution_count": 30,
   "metadata": {},
   "outputs": [],
   "source": [
    "# Número total de colunas a serem plotadas\n",
    "colunas_para_analisar = df_sem_nan.columns.difference(['SAL EM PETROLEO MET.POTEN', 'Datas', 'Categoria_PETROLEO'])\n",
    "num_colunas = len(colunas_para_analisar)\n",
    "\n",
    "# Determinar o número de linhas e colunas para o grid de subplots\n",
    "linhas = math.ceil(num_colunas / 5)  # 4 colunas por linha\n",
    "colunas = min(5, num_colunas)       # Limitar a 4 colunas\n",
    "\n",
    "# Configurar o tamanho do gráfico geral\n",
    "plt.figure(figsize=(16, 5 * linhas))\n",
    "\n",
    "# Criar os subplots\n",
    "for i, coluna in enumerate(colunas_para_analisar, 1):\n",
    "    plt.subplot(linhas, colunas, i)\n",
    "    sns.boxplot(\n",
    "        x=\"Categoria_PETROLEO\",\n",
    "        y=coluna,\n",
    "        data=df_sem_nan,\n",
    "        hue=\"Categoria_PETROLEO\",  # Define a variável de cor\n",
    "        palette=\"coolwarm\",\n",
    "        legend=False  # Remove a legenda (opcional)\n",
    "    )\n",
    "    plt.title(f\"{coluna}\", fontsize=22)\n",
    "    plt.xlabel(\"SAL EM PETROLEO\", fontsize=20)\n",
    "    plt.xticks(rotation=45)\n",
    "\n",
    "# Ajustar espaçamento entre os gráficos\n",
    "plt.tight_layout()\n",
    "plt.subplots_adjust(hspace=1, wspace=1)  # Espaçamento vertical e horizontal\n",
    "pdf.savefig()  # Salvar o gráfico atual no PDF\n",
    "plt.close()    # Fechar o gráfico para liberar memória\n"
   ]
  },
  {
   "cell_type": "markdown",
   "metadata": {},
   "source": [
    "31"
   ]
  },
  {
   "cell_type": "code",
   "execution_count": 31,
   "metadata": {},
   "outputs": [
    {
     "name": "stdout",
     "output_type": "stream",
     "text": [
      "Gráficos exportados para o arquivo 'todos_graficos.pdf' com sucesso.\n"
     ]
    }
   ],
   "source": [
    "# Fechar o arquivo PDF\n",
    "pdf.close()\n",
    "print(f\"Gráficos exportados para o arquivo '{output_pdf}' com sucesso.\")\n"
   ]
  }
 ],
 "metadata": {
  "colab": {
   "provenance": []
  },
  "kernelspec": {
   "display_name": "Python 3",
   "name": "python3"
  },
  "language_info": {
   "codemirror_mode": {
    "name": "ipython",
    "version": 3
   },
   "file_extension": ".py",
   "mimetype": "text/x-python",
   "name": "python",
   "nbconvert_exporter": "python",
   "pygments_lexer": "ipython3",
   "version": "3.13.0"
  }
 },
 "nbformat": 4,
 "nbformat_minor": 0
}
