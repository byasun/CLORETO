{
 "cells": [
  {
   "cell_type": "markdown",
   "metadata": {},
   "source": [
    "1"
   ]
  },
  {
   "cell_type": "code",
   "execution_count": null,
   "metadata": {
    "id": "fWB1t4g3P6od"
   },
   "outputs": [],
   "source": [
    "import pandas as pd\n",
    "import seaborn as sns\n",
    "import matplotlib.pyplot as plt\n",
    "from datetime import datetime, timedelta\n"
   ]
  },
  {
   "cell_type": "markdown",
   "metadata": {},
   "source": [
    "2"
   ]
  },
  {
   "cell_type": "code",
   "execution_count": null,
   "metadata": {
    "colab": {
     "base_uri": "https://localhost:8080/",
     "height": 206
    },
    "id": "j85c76TQUtkN",
    "outputId": "94650c59-1bb4-4e7e-da48-78ff263263c9"
   },
   "outputs": [],
   "source": [
    "# Caminho para a planilha\n",
    "file_path = 'planilhas\\Dados.xlsx'\n",
    "\n",
    "# Carregar a planilha, começando da linha 4 e especificando o índice correto\n",
    "df = pd.read_excel(file_path, skiprows=2)  # Pula as primeiras 3 linhas (começa na linha 4)\n",
    "\n",
    "# Exibir os nomes das colunas para inspeção\n",
    "print(\"Colunas carregadas na planilha:\")\n",
    "print(df.columns)\n"
   ]
  },
  {
   "cell_type": "markdown",
   "metadata": {},
   "source": [
    "3"
   ]
  },
  {
   "cell_type": "code",
   "execution_count": null,
   "metadata": {
    "colab": {
     "base_uri": "https://localhost:8080/",
     "height": 509
    },
    "id": "8JKN_Ck9QpoX",
    "outputId": "2a82d111-026d-43e4-e7fe-8f0e98d13816"
   },
   "outputs": [],
   "source": [
    "# Definir a coluna de data (já carregada e convertida)\n",
    "data_col = df.columns[0]  # Primeira coluna do DataFrame, assumida como a de data\n",
    "\n",
    "# Garantir que a coluna de data foi convertida corretamente\n",
    "if df[data_col].dtype != 'datetime64[ns]':\n",
    "    df[data_col] = pd.to_datetime(df[data_col], errors='coerce')\n",
    "\n",
    "# Determinar a data atual e o limite de 365 dias atrás\n",
    "data_atual = datetime.now()\n",
    "limite_data = data_atual - timedelta(days=365)\n",
    "\n",
    "# Filtrar as linhas dentro do intervalo de 365 dias\n",
    "df_filtrado = df[df[data_col] >= limite_data]\n"
   ]
  },
  {
   "cell_type": "markdown",
   "metadata": {},
   "source": [
    "4"
   ]
  },
  {
   "cell_type": "code",
   "execution_count": null,
   "metadata": {
    "colab": {
     "base_uri": "https://localhost:8080/"
    },
    "id": "j-KjWfnNSROH",
    "outputId": "c1beb998-48a1-4b4a-bc4a-ac3b13f9f8fa"
   },
   "outputs": [],
   "source": [
    "# Exibir as primeiras linhas da planilha filtrada\n",
    "print(\"\\nPrimeiras 5 linhas da planilha filtrada (últimos 365 dias):\")\n",
    "print(df_filtrado.head())\n"
   ]
  },
  {
   "cell_type": "markdown",
   "metadata": {},
   "source": [
    "5"
   ]
  },
  {
   "cell_type": "code",
   "execution_count": null,
   "metadata": {},
   "outputs": [],
   "source": [
    "# Exibir o número total de linhas no DataFrame filtrado\n",
    "print(f\"\\nTotal de linhas filtradas: {len(df_filtrado)}\")\n"
   ]
  },
  {
   "cell_type": "markdown",
   "metadata": {},
   "source": [
    "6"
   ]
  },
  {
   "cell_type": "code",
   "execution_count": null,
   "metadata": {
    "id": "D9Qm5o4hRnwb"
   },
   "outputs": [],
   "source": [
    "# (Opcional) Salvar os dados filtrados em um arquivo Excel\n",
    "df_filtrado.to_excel('planilhas\\dados_filtrados_1_ano.xlsx', index=False)\n",
    "print(\"\\nDados filtrados foram salvos em 'dados_filtrados_1_ano.xlsx'\")\n"
   ]
  },
  {
   "cell_type": "markdown",
   "metadata": {},
   "source": [
    "7"
   ]
  },
  {
   "cell_type": "code",
   "execution_count": null,
   "metadata": {},
   "outputs": [],
   "source": [
    "# Carregar o arquivo gerado anteriormente\n",
    "file_path = 'planilhas\\dados_filtrados_1_ano.xlsx'\n",
    "df = pd.read_excel(file_path)\n",
    "\n",
    "# Identificar as colunas numéricas (da coluna C em diante)\n",
    "colunas_numericas = df.columns[2:]  # Colunas de C em diante (índice começa em 0, então 2 é a terceira coluna)\n"
   ]
  },
  {
   "cell_type": "markdown",
   "metadata": {},
   "source": [
    "8"
   ]
  },
  {
   "cell_type": "code",
   "execution_count": null,
   "metadata": {},
   "outputs": [],
   "source": [
    "# Garantir que as colunas numéricas realmente contenham valores numéricos\n",
    "for col in colunas_numericas:\n",
    "    # Converter valores não numéricos para NaN\n",
    "    df[col] = pd.to_numeric(df[col], errors='coerce')\n",
    "\n",
    "# Exibir um resumo dos dados após a limpeza\n",
    "print(\"\\nResumo das colunas numéricas após limpeza:\")\n",
    "print(df[colunas_numericas].describe())\n"
   ]
  },
  {
   "cell_type": "markdown",
   "metadata": {},
   "source": [
    "9"
   ]
  },
  {
   "cell_type": "code",
   "execution_count": null,
   "metadata": {},
   "outputs": [],
   "source": [
    "# Salvar o DataFrame limpo em um novo arquivo Excel\n",
    "df.to_excel('planilhas\\dados_filtrados_limpos.xlsx', index=False)\n",
    "print(\"\\nDados limpos foram salvos em 'dados_filtrados_limpos.xlsx'\")\n",
    "print(df.head())\n"
   ]
  },
  {
   "cell_type": "markdown",
   "metadata": {},
   "source": [
    "10"
   ]
  },
  {
   "cell_type": "code",
   "execution_count": null,
   "metadata": {},
   "outputs": [],
   "source": [
    "df_sem_nan = df.dropna()\n",
    "\n",
    "# Exibir o número total de linhas restantes\n",
    "print(f\"\\nTotal de linhas após remover células vazias: {len(df_sem_nan)}\")\n",
    "\n",
    "# Exibir as primeiras linhas do DataFrame resultante\n",
    "print(\"\\nPrimeiras 5 linhas após remoção de células vazias:\")\n",
    "print(df_sem_nan.head())\n"
   ]
  },
  {
   "cell_type": "markdown",
   "metadata": {},
   "source": [
    "11"
   ]
  },
  {
   "cell_type": "code",
   "execution_count": null,
   "metadata": {},
   "outputs": [],
   "source": [
    "# Salvar o DataFrame limpo em um novo arquivo Excel\n",
    "df_sem_nan.to_excel('planilhas\\dados_filtrados_sem_nan.xlsx', index=False)\n",
    "print(\"\\nDados sem células vazias foram salvos em 'dados_filtrados_sem_nan.xlsx'\")\n"
   ]
  },
  {
   "cell_type": "markdown",
   "metadata": {},
   "source": [
    "12"
   ]
  },
  {
   "cell_type": "code",
   "execution_count": null,
   "metadata": {},
   "outputs": [],
   "source": [
    "# Exibir os nomes das colunas carregadas no DataFrame\n",
    "print(\"Nomes das colunas disponíveis:\", df_sem_nan.columns)\n"
   ]
  },
  {
   "cell_type": "markdown",
   "metadata": {},
   "source": [
    "13"
   ]
  },
  {
   "cell_type": "code",
   "execution_count": null,
   "metadata": {},
   "outputs": [],
   "source": [
    "# Garantir que a coluna \"Datas\" seja convertida para datetime\n",
    "df_sem_nan['Datas'] = pd.to_datetime(df_sem_nan['Datas'], errors='coerce')  # Converter para datetime\n",
    "\n",
    "# Criar uma cópia da coluna 'Datas' para não perder a informação\n",
    "df_sem_nan['Datas_Copy'] = df_sem_nan['Datas']\n",
    "\n",
    "# Definir a coluna \"Datas\" como índice\n",
    "df_sem_nan.set_index('Datas', inplace=True)  # Definir a coluna \"Datas\" como índice\n",
    "\n",
    "# Identificar as colunas de C em diante (começando da terceira coluna)\n",
    "colunas_variaveis = df_sem_nan.columns[1:]  # Exclui a coluna de índice\n",
    "\n",
    "# Configurar o tamanho do gráfico\n",
    "plt.figure(figsize=(20, 10))\n"
   ]
  },
  {
   "cell_type": "markdown",
   "metadata": {},
   "source": [
    "14"
   ]
  },
  {
   "cell_type": "code",
   "execution_count": null,
   "metadata": {},
   "outputs": [],
   "source": [
    "# Plotar todas as colunas em função da coluna \"Datas\"\n",
    "for coluna in colunas_variaveis:\n",
    "    plt.plot(df_sem_nan.index, df_sem_nan[coluna], label=coluna, linewidth=0.8)\n",
    "\n",
    "# Adicionar título e rótulos\n",
    "plt.title(\"Variação de Todas as Variáveis ao Longo do Tempo\", fontsize=16)\n",
    "plt.xlabel(\"Data\", fontsize=14)\n",
    "plt.ylabel(\"Valores\", fontsize=14)\n",
    "plt.legend(loc='upper left', bbox_to_anchor=(1.05, 1), ncol=1, fontsize=8)  # Legenda fora do gráfico\n",
    "plt.tight_layout()\n",
    "\n",
    "# Exibir o gráfico\n",
    "plt.show()\n"
   ]
  },
  {
   "cell_type": "markdown",
   "metadata": {},
   "source": [
    "15"
   ]
  },
  {
   "cell_type": "code",
   "execution_count": null,
   "metadata": {},
   "outputs": [],
   "source": [
    "# Exibir os nomes das colunas carregadas no DataFrame\n",
    "print(\"Nomes das colunas disponíveis:\", df_sem_nan.columns)\n"
   ]
  },
  {
   "cell_type": "markdown",
   "metadata": {},
   "source": [
    "16"
   ]
  },
  {
   "cell_type": "code",
   "execution_count": null,
   "metadata": {},
   "outputs": [],
   "source": [
    "# Garantir que a coluna \"Datas_Copy\" seja convertida para datetime\n",
    "df_sem_nan['Datas_Copy'] = pd.to_datetime(df_sem_nan['Datas_Copy'], errors='coerce')  # Converter para datetime\n",
    "\n",
    "# Calcular a correlação entre \"SAL EM PETROLEO MET.POTEN\" e as outras colunas\n",
    "coluna_alvo = \"SAL EM PETROLEO MET.POTEN\"\n",
    "correlacao = df_sem_nan.corr()[coluna_alvo]\n",
    "\n",
    "# Exibir as correlações\n",
    "print(f\"Correlação entre '{coluna_alvo}' e as outras colunas:\")\n",
    "print(correlacao)\n"
   ]
  },
  {
   "cell_type": "markdown",
   "metadata": {},
   "source": [
    "17"
   ]
  },
  {
   "cell_type": "code",
   "execution_count": null,
   "metadata": {},
   "outputs": [],
   "source": [
    "# Selecionar as colunas para comparação (excluindo a coluna alvo \"SAL EM PETROLEO MET.POTEN\")\n",
    "colunas_para_comparar = df_sem_nan.columns[df_sem_nan.columns != coluna_alvo]\n",
    "\n",
    "# Definir o número de linhas e colunas para os gráficos\n",
    "n_linhas = 14  # Número de linhas de gráficos\n",
    "n_colunas = 6  # Número de colunas de gráficos\n",
    "\n",
    "# Configurar o tamanho do gráfico (aumentado para gráficos maiores)\n",
    "plt.figure(figsize=(n_colunas * 8, n_linhas * 6))  # Ajuste os valores conforme necessário\n",
    "\n",
    "# Gerar gráfico de dispersão para cada coluna em relação à coluna alvo\n",
    "for i, coluna in enumerate(colunas_para_comparar):\n",
    "    ax = plt.subplot(n_linhas, n_colunas, i+1)  # Ajuste o layout de acordo com o número de colunas\n",
    "    plt.scatter(df_sem_nan['Datas_Copy'], df_sem_nan[coluna], alpha=0.9)  # Usando 'Datas_Copy' como eixo x\n",
    "    \n",
    "    # Títulos e rótulos\n",
    "    plt.title(f'{coluna}', fontsize=22)  # Aumentando o tamanho do título\n",
    "    plt.xlabel('Datas', fontsize=20)  # Rótulo do eixo X (Datas)\n",
    "    plt.ylabel(coluna, fontsize=20)  # Rótulo do eixo Y\n",
    "    \n",
    "    # Ajustar o tamanho das marcas nos eixos (ticks)\n",
    "    plt.tick_params(axis='x', labelsize=12)  # Aumentando o tamanho das marcações no eixo X\n",
    "    plt.tick_params(axis='y', labelsize=12)  # Aumentando o tamanho das marcações no eixo Y\n",
    "    \n",
    "    # Adicionar linha divisória vertical e horizontal\n",
    "    if (i + 1) % n_colunas == 0:  # Divisória a cada n_colunas gráficos\n",
    "        ax.spines['right'].set_linestyle('dashed')\n",
    "        ax.spines['right'].set_linewidth(2)\n",
    "    \n",
    "    if (i + 1) // n_colunas == 0:  # Divisória a cada linha\n",
    "        ax.spines['bottom'].set_linestyle('dashed')\n",
    "        ax.spines['bottom'].set_linewidth(2)\n",
    "\n",
    "    if (i + 1) % n_colunas == 0:  # Divisória a cada n_colunas gráficos\n",
    "        ax.spines['left'].set_linestyle('dashed')\n",
    "        ax.spines['left'].set_linewidth(2)\n",
    "\n",
    "# Ajustar o espaçamento entre os gráficos (horizontal e vertical)\n",
    "plt.subplots_adjust(hspace=0.5, wspace=0.5)  # Ajuste o espaçamento conforme necessário\n",
    "\n",
    "# Exibir os gráficos\n",
    "plt.show()\n"
   ]
  },
  {
   "cell_type": "markdown",
   "metadata": {},
   "source": [
    "18"
   ]
  },
  {
   "cell_type": "code",
   "execution_count": null,
   "metadata": {},
   "outputs": [],
   "source": [
    "# Selecionar as colunas para comparação (excluindo \"SAL EM PETROLEO MET.POTEN\" e \"Datas_Copy\")\n",
    "colunas_para_comparar = df_sem_nan.columns.difference(['SAL EM PETROLEO MET.POTEN', 'Datas_Copy'])\n",
    "\n",
    "# Definir o número de linhas e colunas para os gráficos\n",
    "n_linhas = 14  # Número de linhas de gráficos\n",
    "n_colunas = 6  # Número de colunas de gráficos\n",
    "\n",
    "# Configurar o tamanho do gráfico (aumentado para gráficos maiores)\n",
    "plt.figure(figsize=(n_colunas * 8, n_linhas * 6))  # Ajuste os valores conforme necessário\n",
    "\n",
    "# Gerar gráfico para cada coluna em relação à coluna alvo\n",
    "for i, coluna in enumerate(colunas_para_comparar):\n",
    "    ax = plt.subplot(n_linhas, n_colunas, i + 1)\n",
    "    \n",
    "    # Garantir que tanto eixo X quanto eixo Y sejam numéricos\n",
    "    if pd.api.types.is_numeric_dtype(df_sem_nan[coluna]) and pd.api.types.is_numeric_dtype(df_sem_nan[coluna_alvo]):\n",
    "        eixo_y = df_sem_nan['Datas_Copy'] if 'Datas_Copy' in df_sem_nan.columns else df_sem_nan.index\n",
    "        \n",
    "        # Gerar o gráfico de dispersão (kdeplot)\n",
    "        sns.kdeplot(\n",
    "            x=df_sem_nan[coluna_alvo],\n",
    "            y=df_sem_nan[coluna],\n",
    "            fill=True,\n",
    "            cmap='viridis',\n",
    "            alpha=0.8,\n",
    "            ax=ax\n",
    "        )\n",
    "        \n",
    "        # Títulos e rótulos\n",
    "        plt.title(f'Heatmap: {coluna}', fontsize=22)\n",
    "        plt.xlabel(coluna_alvo, fontsize=20)\n",
    "        plt.tick_params(axis='x', labelsize=20)\n",
    "        plt.tick_params(axis='y', labelsize=20)\n",
    "    else:\n",
    "        # Caso não seja numérica, podemos simplesmente pular o gráfico ou usar outro tipo de visualização\n",
    "        plt.axis('off')  # Desabilita o gráfico se não for numérico\n",
    "\n",
    "# Ajustar o espaçamento entre os gráficos (horizontal e vertical)\n",
    "plt.subplots_adjust(hspace=1, wspace=1)  # Ajuste o espaçamento conforme necessário\n",
    "\n",
    "# Exibir os gráficos\n",
    "plt.show()\n"
   ]
  },
  {
   "cell_type": "markdown",
   "metadata": {},
   "source": [
    "19"
   ]
  },
  {
   "cell_type": "code",
   "execution_count": null,
   "metadata": {},
   "outputs": [],
   "source": [
    "# Selecionar as colunas para comparação (excluindo \"SAL EM PETROLEO MET.POTEN\" e \"Datas_Copy\")\n",
    "colunas_para_comparar = df_sem_nan.columns.difference(['SAL EM PETROLEO MET.POTEN', 'Datas_Copy'])\n",
    "\n",
    "# Definir o número de linhas e colunas para os gráficos\n",
    "n_linhas = 14  # Ajuste conforme o número de gráficos\n",
    "n_colunas = 9\n",
    "\n",
    "# Configurar o tamanho do gráfico\n",
    "plt.figure(figsize=(n_colunas * 6, n_linhas * 4))  # Ajuste o tamanho conforme necessário\n",
    "\n",
    "# Gerar gráfico de barras para cada coluna em relação à coluna \"SAL EM PETROLEO MET.POTEN\"\n",
    "for i, coluna in enumerate(colunas_para_comparar):\n",
    "    ax = plt.subplot(n_linhas, n_colunas, i + 1)\n",
    "    \n",
    "    # Plotar os valores das colunas em relação à coluna \"SAL EM PETROLEO MET.POTEN\"\n",
    "    plt.bar(df_sem_nan['SAL EM PETROLEO MET.POTEN'], df_sem_nan[coluna], alpha=0.7)\n",
    "    \n",
    "    # Títulos e rótulos\n",
    "    plt.title(f'{coluna}', fontsize=22)\n",
    "    plt.xlabel('SAL EM PETROLEO MET.POTEN', fontsize=20)\n",
    "    plt.tick_params(axis='x', labelsize=20)\n",
    "    plt.tick_params(axis='y', labelsize=20)\n",
    "\n",
    "# Ajustar o espaçamento entre os gráficos\n",
    "plt.tight_layout()\n",
    "plt.subplots_adjust(hspace=0.5, wspace=0.5)\n",
    "\n",
    "# Exibir os gráficos\n",
    "plt.show()\n"
   ]
  }
 ],
 "metadata": {
  "colab": {
   "provenance": []
  },
  "kernelspec": {
   "display_name": "Python 3",
   "name": "python3"
  },
  "language_info": {
   "codemirror_mode": {
    "name": "ipython",
    "version": 3
   },
   "file_extension": ".py",
   "mimetype": "text/x-python",
   "name": "python",
   "nbconvert_exporter": "python",
   "pygments_lexer": "ipython3",
   "version": "3.13.0"
  }
 },
 "nbformat": 4,
 "nbformat_minor": 0
}
