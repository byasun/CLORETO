{
 "cells": [
  {
   "cell_type": "code",
   "execution_count": null,
   "metadata": {
    "id": "fWB1t4g3P6od"
   },
   "outputs": [],
   "source": [
    "import pandas as pd\n",
    "import seaborn as sns\n",
    "import matplotlib.pyplot as plt\n",
    "from datetime import datetime, timedelta"
   ]
  },
  {
   "cell_type": "code",
   "execution_count": 7,
   "metadata": {
    "colab": {
     "base_uri": "https://localhost:8080/",
     "height": 206
    },
    "id": "j85c76TQUtkN",
    "outputId": "94650c59-1bb4-4e7e-da48-78ff263263c9"
   },
   "outputs": [
    {
     "name": "stdout",
     "output_type": "stream",
     "text": [
      "Colunas carregadas na planilha:\n",
      "Index(['Datas', 'SAL EM PETROLEO MET.POTEN', 'SUCCAO 01-P-01A/B',\n",
      "       'PET P/ 1a.BATERIA', 'PET P/ 01-E-03A/B', 'PET P/ 01-E-04A/F',\n",
      "       'AGUA BAT.', 'PET E04AF', 'ENTRADA E33 CRU', 'ABR E-15', 'PET P/V3A',\n",
      "       'DELTA V3A', '01-V-03A', '01-V-03A.1', 'SALMOURA', 'AGUA V3',\n",
      "       'AGUA E-25 P/ V-03', 'PET V-03A', 'DELTA V3B', 'PET P/V3B', '01-V-03B',\n",
      "       '001V3B ALIVIO P/ TOCHA', 'PET V-03B SAIDA', 'AGUA TRAT P/ U-01/101',\n",
      "       'succao 01-P-16', 'SAL P/E26', 'SAL P/E25 SALMOURA',\n",
      "       'ANALISADOR DE NH3', 'SUCCAO P23A/B', 'CRU ENTRADA 01E5',\n",
      "       'PET P/ 01-E-05A/B', 'RCS P/ 01-P-04A/B', 'PET P/ 01-E-06A/B',\n",
      "       'GOP-1 E7B SAIDA', 'GOP-1 E7D SAIDA', 'PET P/ 01-E-27B', 'CARGA 01',\n",
      "       'SUCCAO P28A/B', 'DESCARGA 01P28A/B', 'SAIDA E32 CRU',\n",
      "       'SAIDA E32 CRU.1', 'DP-1 P/ 01-C-02D', 'PET E-06A SAIDA',\n",
      "       'PET E-06B SAIDA', 'PRESSAO E27', 'DL-1 P/ 01-P-05A/B', 'PET P/E27B',\n",
      "       'GOP-1 E27A SAIDA', 'DL-1 E-09 Saida', 'PET E-27B SAIDA', 'ABR E-15.1',\n",
      "       'ENTRADA E19 CRU', 'ENTRADA E19 CRU.1', 'SAIDA E19 RCI',\n",
      "       'SAIDA E19 CRU', 'RV-1 E-28B SAIDA', 'PET E-28B SAIDA',\n",
      "       'RV-1 E-28A SAIDA', 'SAIDA BATERIA', 'PASSO 3 E 4 SAIDA RADIACAO',\n",
      "       'NP-1 P/ 01-C-02A', 'Q-1 P/ 01-C-02B', 'DL-1 P/ 01-C-02C',\n",
      "       'DP-1 P/ 01-C-02D.1', 'NP P/ LB', 'Q P/LB', 'DESCARGA 001-P-05AB',\n",
      "       'DP P/ LB'],\n",
      "      dtype='object')\n"
     ]
    }
   ],
   "source": [
    "# Caminho para a planilha\n",
    "file_path = 'Dados.xlsx'\n",
    "\n",
    "# Carregar a planilha, começando da linha 4 e especificando o índice correto\n",
    "df = pd.read_excel(file_path, skiprows=2)  # Pula as primeiras 3 linhas (começa na linha 4)\n",
    "\n",
    "# Exibir os nomes das colunas para inspeção\n",
    "print(\"Colunas carregadas na planilha:\")\n",
    "print(df.columns)"
   ]
  },
  {
   "cell_type": "code",
   "execution_count": 8,
   "metadata": {
    "colab": {
     "base_uri": "https://localhost:8080/",
     "height": 509
    },
    "id": "8JKN_Ck9QpoX",
    "outputId": "2a82d111-026d-43e4-e7fe-8f0e98d13816"
   },
   "outputs": [
    {
     "name": "stdout",
     "output_type": "stream",
     "text": [
      "\n",
      "Primeiras 5 linhas da planilha original (após processamento inicial):\n",
      "                Datas  SAL EM PETROLEO MET.POTEN SUCCAO 01-P-01A/B  \\\n",
      "0 2024-12-03 09:00:00                        2.0          3.985596   \n",
      "1 2024-12-02 09:00:00                        2.0          3.989899   \n",
      "2 2024-12-01 09:00:00                        4.0          4.280632   \n",
      "3 2024-11-30 21:00:00                        6.0          3.803757   \n",
      "4 2024-11-30 09:00:00                        9.0          4.009426   \n",
      "\n",
      "  PET P/ 1a.BATERIA PET P/ 01-E-03A/B PET P/ 01-E-04A/F   AGUA BAT.  \\\n",
      "0         26.744247         52.792759         70.117332  347.581207   \n",
      "1         25.399412         50.566494         69.303711  367.763092   \n",
      "2         26.929869         51.511902         68.766235  366.493958   \n",
      "3         27.977982          53.04414         69.639572  367.638977   \n",
      "4         28.566402         53.916306         69.948586  368.045013   \n",
      "\n",
      "    PET E04AF ENTRADA E33 CRU   ABR E-15  ... SAIDA BATERIA  \\\n",
      "0   128.49588       18.244637  52.779049  ...    264.008759   \n",
      "1   121.75618       18.294065  50.415707  ...    262.764374   \n",
      "2  127.422874       18.573433  52.263351  ...    266.268524   \n",
      "3  131.418442       18.299627  52.083843  ...    267.014252   \n",
      "4  133.921494        18.16486  52.173916  ...    269.437378   \n",
      "\n",
      "  PASSO 3 E 4 SAIDA RADIACAO NP-1 P/ 01-C-02A Q-1 P/ 01-C-02B  \\\n",
      "0                 365.320099       170.885559      237.545517   \n",
      "1                 365.596008        162.40947      232.826126   \n",
      "2                 364.937744       168.447769      236.695724   \n",
      "3                 364.493103       164.827637      234.271744   \n",
      "4                 364.675629       166.067291      235.250427   \n",
      "\n",
      "  DL-1 P/ 01-C-02C DP-1 P/ 01-C-02D.1     NP P/ LB       Q P/LB  \\\n",
      "0       273.965759         319.005646  1897.248779   901.644592   \n",
      "1       274.103485         322.492096  1901.969849  1003.128357   \n",
      "2       272.308258         318.220947  1900.131714   851.462891   \n",
      "3       272.467804         319.450348  1899.395874  1000.496216   \n",
      "4       273.197876          317.88501  1898.153687  1000.018066   \n",
      "\n",
      "  DESCARGA 001-P-05AB    DP P/ LB  \n",
      "0         1598.307007  700.637878  \n",
      "1         1768.283203  700.541382  \n",
      "2         1602.943237  650.274902  \n",
      "3         1528.935059  589.991028  \n",
      "4         1512.973633  588.086853  \n",
      "\n",
      "[5 rows x 68 columns]\n"
     ]
    }
   ],
   "source": [
    "data_col = df.columns[0]  # Supondo que a primeira coluna seja a de data\n",
    "\n",
    "# Converter a coluna de data para o formato datetime\n",
    "df[data_col] = pd.to_datetime(df[data_col], errors='coerce')\n",
    "\n",
    "# Exibir as primeiras linhas da planilha\n",
    "print(\"\\nPrimeiras 5 linhas da planilha original (após processamento inicial):\")\n",
    "print(df.head())"
   ]
  },
  {
   "cell_type": "code",
   "execution_count": null,
   "metadata": {
    "colab": {
     "base_uri": "https://localhost:8080/"
    },
    "id": "j-KjWfnNSROH",
    "outputId": "c1beb998-48a1-4b4a-bc4a-ac3b13f9f8fa"
   },
   "outputs": [],
   "source": [
    "# Selecionar colunas numéricas a partir da coluna C (index 2 em Python)\n",
    "df_numeric_before = df.iloc[:, 2:]\n",
    "\n",
    "# Converter todas as colunas para valores numéricos, substituindo não numéricos por NaN\n",
    "df_numeric_before = df_numeric_before.apply(pd.to_numeric, errors='coerce')\n",
    "\n",
    "# Gerar a matriz de correlação antes da limpeza\n",
    "corr_before = df_numeric_before.corr()\n",
    "\n",
    "# Gerar o heatmap para a matriz de correlação antes da limpeza\n",
    "plt.figure(figsize=(10, 8))\n",
    "sns.heatmap(corr_before, annot=True, cmap='coolwarm', fmt='.2f', linewidths=0.5)\n",
    "plt.title('Matriz de Correlação Antes da Limpeza')\n",
    "plt.show()"
   ]
  },
  {
   "cell_type": "code",
   "execution_count": null,
   "metadata": {},
   "outputs": [],
   "source": [
    "# Remover linhas com valores ausentes\n",
    "df_numeric_after = df_numeric_before.dropna()\n",
    "\n",
    "# Gerar a matriz de correlação após a limpeza\n",
    "corr_after = df_numeric_after.corr()\n",
    "\n",
    "# Gerar o heatmap para a matriz de correlação após a limpeza\n",
    "plt.figure(figsize=(10, 8))\n",
    "sns.heatmap(corr_after, annot=True, cmap='coolwarm', fmt='.2f', linewidths=0.5)\n",
    "plt.title('Matriz de Correlação Após a Limpeza')\n",
    "plt.show()"
   ]
  },
  {
   "cell_type": "code",
   "execution_count": null,
   "metadata": {
    "id": "D9Qm5o4hRnwb"
   },
   "outputs": [],
   "source": [
    "# Salvar o DataFrame limpo em um novo arquivo\n",
    "df_numeric_after.to_excel('variaveis_limpos.xlsx', index=False)\n",
    "print(\"\\nArquivo limpo salvo como 'variaveis_limpos.xlsx'\")"
   ]
  },
  {
   "cell_type": "code",
   "execution_count": null,
   "metadata": {},
   "outputs": [],
   "source": [
    "# Identificar a primeira coluna (coluna A sem nome)\n",
    "data_col = df.columns[0]  # A primeira coluna, mesmo que esteja sem nome\n",
    "\n",
    "# Converter a coluna A (datas) para datetime\n",
    "df[data_col] = pd.to_datetime(df[data_col], errors='coerce')\n",
    "\n",
    "# Renomear a coluna de data para algo mais amigável\n",
    "df.rename(columns={data_col: 'Data'}, inplace=True)\n",
    "\n",
    "# Selecionar as colunas relevantes (C até BP)\n",
    "df_numeric = df.iloc[:, 2:68]  # C está no índice 2, BP no índice 67 em Python\n",
    "\n",
    "# Adicionar as colunas Data (antiga A) e B\n",
    "df_numeric['Data'] = df['Data']\n",
    "df_numeric['SAL EM PETROLEO MET.POTEN'] = df['SAL EM PETROLEO MET.POTEN']\n",
    "\n",
    "# Garantir que os dados numéricos sejam tratados corretamente\n",
    "df_numeric.iloc[:, :-2] = df_numeric.iloc[:, :-2].apply(pd.to_numeric, errors='coerce')"
   ]
  },
  {
   "cell_type": "code",
   "execution_count": null,
   "metadata": {},
   "outputs": [],
   "source": [
    "# Filtrar os dados por grupo na coluna B\n",
    "groups = df_numeric['SAL EM PETROLEO MET.POTEN'].unique()\n",
    "for group in groups:\n",
    "    print(f\"\\nAnalisando o grupo: {group}\")\n",
    "    group_data = df_numeric[df_numeric['SAL EM PETROLEO MET.POTEN'] == group]\n",
    "    \n",
    "    # Gerar a matriz de correlação para o grupo\n",
    "    corr_group = group_data.iloc[:, :-2].corr()\n",
    "    \n",
    "    # Gerar o heatmap\n",
    "    plt.figure(figsize=(10, 8))\n",
    "    sns.heatmap(corr_group, annot=False, cmap='coolwarm', fmt='.2f', linewidths=0.5)\n",
    "    plt.title(f'Matriz de Correlação para o Grupo \"{group}\"')\n",
    "    plt.show()"
   ]
  },
  {
   "cell_type": "code",
   "execution_count": null,
   "metadata": {},
   "outputs": [],
   "source": [
    "# Gerar análise temporal (resumo por data)\n",
    "df_grouped_by_date = df_numeric.groupby(['Data', 'SAL EM PETROLEO MET.POTEN']).mean().reset_index()\n",
    "\n",
    "# Salvar o resultado agrupado por data em Excel\n",
    "df_grouped_by_date.to_excel('analise_por_data_e_grupo.xlsx', index=False)\n",
    "print(\"\\nAnálise agrupada por data e grupo salva em 'analise_por_data_e_grupo.xlsx'\")"
   ]
  }
 ],
 "metadata": {
  "colab": {
   "provenance": []
  },
  "kernelspec": {
   "display_name": "Python 3",
   "name": "python3"
  },
  "language_info": {
   "codemirror_mode": {
    "name": "ipython",
    "version": 3
   },
   "file_extension": ".py",
   "mimetype": "text/x-python",
   "name": "python",
   "nbconvert_exporter": "python",
   "pygments_lexer": "ipython3",
   "version": "3.13.0"
  }
 },
 "nbformat": 4,
 "nbformat_minor": 0
}
